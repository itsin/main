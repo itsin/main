{
 "cells": [
  {
   "cell_type": "code",
   "execution_count": 6,
   "metadata": {},
   "outputs": [
    {
     "data": {
      "text/plain": [
       "((7352, 1), (2947, 561), (7352, 1), (2947, 1))"
      ]
     },
     "execution_count": 6,
     "metadata": {},
     "output_type": "execute_result"
    }
   ],
   "source": [
    "import pandas as pd\n",
    "url = 'https://raw.githubusercontent.com/PinkWink/ML_tutorial/'+'master/dataset/HAR_dataset/features.txt'\n",
    "\n",
    "feature_name_df = pd.read_csv(url, sep='\\s+', header=None, \n",
    "                             names=['column_index' , 'column_name'])\n",
    "feature_name = feature_name_df.iloc[:, 1].values.tolist()\n",
    "X_train_url = 'https://raw.githubusercontent.com/PinkWink/ML_tutorial/' + 'master/dataset/HAR_dataset/train/X_train.txt'\n",
    "\n",
    "X_test_url = 'https://raw.githubusercontent.com/PinkWink/ML_tutorial/' +'master/dataset/HAR_dataset/test/X_test.txt'\n",
    "\n",
    "X_train = pd.read_csv(X_train_url, sep='\\s+', header=None)\n",
    "X_test = pd.read_csv(X_test_url, sep='\\s+', header=None)\n",
    "X_train.columns = feature_name\n",
    "X_test.columns = feature_name\n",
    "\n",
    "y_train_url = 'https://raw.githubusercontent.com/PinkWink/ML_tutorial/' + 'master/dataset/HAR_dataset/train/y_train.txt'\n",
    "y_test_url = 'https://raw.githubusercontent.com/PinkWink/ML_tutorial/' +'master/dataset/HAR_dataset/test/y_test.txt'\n",
    "\n",
    "y_train = pd.read_csv(y_train_url, sep='\\s+', header=None, names=['action'])\n",
    "y_test = pd.read_csv(y_test_url, sep='\\s+', header=None, names=['action'])\n",
    "\n",
    "y_train.shape, X_test.shape, y_train.shape, y_test.shape"
   ]
  },
  {
   "cell_type": "code",
   "execution_count": 9,
   "metadata": {},
   "outputs": [],
   "source": [
    "from sklearn.decomposition import PCA\n",
    "\n",
    "def get_pca_data(ss_data, n_components=2):\n",
    "    pca = PCA(n_components=n_components)\n",
    "    pca.fit(ss_data)\n",
    "    \n",
    "    return pca.transform(ss_data), pca"
   ]
  },
  {
   "cell_type": "code",
   "execution_count": 10,
   "metadata": {},
   "outputs": [
    {
     "data": {
      "text/plain": [
       "(7352, 2)"
      ]
     },
     "execution_count": 10,
     "metadata": {},
     "output_type": "execute_result"
    }
   ],
   "source": [
    "HAR_pca, pca = get_pca_data(X_train, n_components=2)\n",
    "HAR_pca.shape"
   ]
  },
  {
   "cell_type": "code",
   "execution_count": 11,
   "metadata": {},
   "outputs": [
    {
     "data": {
      "text/plain": [
       "['pca_0', 'pca_1']"
      ]
     },
     "execution_count": 11,
     "metadata": {},
     "output_type": "execute_result"
    }
   ],
   "source": [
    "cols = ['pca_'+str(n) for n in range(pca.components_.shape[0])]\n",
    "cols"
   ]
  },
  {
   "cell_type": "code",
   "execution_count": 17,
   "metadata": {},
   "outputs": [],
   "source": [
    "def get_pd_from_pca(pca_data, col_num):\n",
    "    cols = ['pca_'+str(n) for n in range(col_num)]\n",
    "    return pd.DataFrame(pca_data, columns=cols)"
   ]
  },
  {
   "cell_type": "code",
   "execution_count": 18,
   "metadata": {},
   "outputs": [
    {
     "data": {
      "text/html": [
       "<div>\n",
       "<style scoped>\n",
       "    .dataframe tbody tr th:only-of-type {\n",
       "        vertical-align: middle;\n",
       "    }\n",
       "\n",
       "    .dataframe tbody tr th {\n",
       "        vertical-align: top;\n",
       "    }\n",
       "\n",
       "    .dataframe thead th {\n",
       "        text-align: right;\n",
       "    }\n",
       "</style>\n",
       "<table border=\"1\" class=\"dataframe\">\n",
       "  <thead>\n",
       "    <tr style=\"text-align: right;\">\n",
       "      <th></th>\n",
       "      <th>pca_0</th>\n",
       "      <th>pca_1</th>\n",
       "      <th>action</th>\n",
       "    </tr>\n",
       "  </thead>\n",
       "  <tbody>\n",
       "    <tr>\n",
       "      <th>0</th>\n",
       "      <td>-5.520280</td>\n",
       "      <td>-0.290278</td>\n",
       "      <td>5</td>\n",
       "    </tr>\n",
       "    <tr>\n",
       "      <th>1</th>\n",
       "      <td>-5.535350</td>\n",
       "      <td>-0.082530</td>\n",
       "      <td>5</td>\n",
       "    </tr>\n",
       "    <tr>\n",
       "      <th>2</th>\n",
       "      <td>-5.474988</td>\n",
       "      <td>0.287387</td>\n",
       "      <td>5</td>\n",
       "    </tr>\n",
       "    <tr>\n",
       "      <th>3</th>\n",
       "      <td>-5.677232</td>\n",
       "      <td>0.897031</td>\n",
       "      <td>5</td>\n",
       "    </tr>\n",
       "    <tr>\n",
       "      <th>4</th>\n",
       "      <td>-5.748749</td>\n",
       "      <td>1.162952</td>\n",
       "      <td>5</td>\n",
       "    </tr>\n",
       "  </tbody>\n",
       "</table>\n",
       "</div>"
      ],
      "text/plain": [
       "      pca_0     pca_1  action\n",
       "0 -5.520280 -0.290278       5\n",
       "1 -5.535350 -0.082530       5\n",
       "2 -5.474988  0.287387       5\n",
       "3 -5.677232  0.897031       5\n",
       "4 -5.748749  1.162952       5"
      ]
     },
     "execution_count": 18,
     "metadata": {},
     "output_type": "execute_result"
    }
   ],
   "source": [
    "HAR_pca, pca = get_pca_data(X_train, n_components=2)\n",
    "HAR_pd_pca = get_pd_from_pca(HAR_pca, pca.components_.shape[0])\n",
    "HAR_pd_pca['action'] = y_train\n",
    "HAR_pd_pca.head()"
   ]
  },
  {
   "cell_type": "code",
   "execution_count": 19,
   "metadata": {},
   "outputs": [
    {
     "data": {
      "image/png": "[encoded data removed]",
      "text/plain": [
       "<Figure size 398.75x360 with 1 Axes>"
      ]
     },
     "metadata": {
      "image/png": {
       "height": 355,
       "width": 397
      },
      "needs_background": "light"
     },
     "output_type": "display_data"
    }
   ],
   "source": [
    "import seaborn as sns\n",
    "sns.pairplot(HAR_pd_pca, hue='action', height=5,\n",
    "            x_vars=['pca_0'], y_vars=['pca_1']);"
   ]
  },
  {
   "cell_type": "code",
   "execution_count": 22,
   "metadata": {},
   "outputs": [
    {
     "name": "stdout",
     "output_type": "stream",
     "text": [
      "variance_ratio:  [0.6255444  0.04913023]\n",
      "sum of variance_ratio:  0.6746746270487948\n"
     ]
    }
   ],
   "source": [
    "import numpy as np\n",
    "\n",
    "def print_variance_ratio(pca):\n",
    "    print('variance_ratio: ', pca. explained_variance_ratio_)\n",
    "    print('sum of variance_ratio: ', np.sum(pca.explained_variance_ratio_))\n",
    "    \n",
    "print_variance_ratio(pca)"
   ]
  },
  {
   "cell_type": "code",
   "execution_count": 23,
   "metadata": {},
   "outputs": [
    {
     "name": "stdout",
     "output_type": "stream",
     "text": [
      "variance_ratio:  [0.6255444  0.04913023 0.04121467 0.01874956 0.0169486  0.01272069\n",
      " 0.01176685 0.01068973 0.00969379 0.00858009]\n",
      "sum of variance_ratio:  0.8050386075174512\n"
     ]
    }
   ],
   "source": [
    "HAR_pca, pca = get_pca_data(X_train, n_components=10)\n",
    "HAR_pd_pca = get_pd_from_pca(HAR_pca, pca.components_.shape[0])\n",
    "HAR_pd_pca['action'] = y_train\n",
    "\n",
    "print_variance_ratio(pca)"
   ]
  },
  {
   "cell_type": "code",
   "execution_count": 25,
   "metadata": {},
   "outputs": [
    {
     "data": {
      "text/plain": [
       "GridSearchCV(cv=2, estimator=RandomForestClassifier(n_jobs=-1, random_state=13),\n",
       "             n_jobs=-1,\n",
       "             param_grid={'max_depth': [6, 8, 10], 'min_samples_leaf': [8, 12],\n",
       "                         'min_samples_split': [8, 12],\n",
       "                         'n_estimators': [50, 100, 200]})"
      ]
     },
     "execution_count": 25,
     "metadata": {},
     "output_type": "execute_result"
    }
   ],
   "source": [
    "from sklearn.model_selection import GridSearchCV\n",
    "from sklearn.ensemble import RandomForestClassifier\n",
    "\n",
    "params = {\n",
    "    'max_depth' : [6, 8, 10],\n",
    "    'n_estimators' : [50, 100, 200],\n",
    "    'min_samples_leaf' : [8, 12],\n",
    "    'min_samples_split' : [8, 12],\n",
    "    }\n",
    "rf_clf = RandomForestClassifier(random_state=13, n_jobs=-1)\n",
    "grid_cv = GridSearchCV(rf_clf, param_grid=params, cv=2, n_jobs=-1)\n",
    "grid_cv.fit(HAR_pca, y_train.values.reshape(-1,))"
   ]
  },
  {
   "cell_type": "code",
   "execution_count": 27,
   "metadata": {},
   "outputs": [
    {
     "data": {
      "text/html": [
       "<div>\n",
       "<style scoped>\n",
       "    .dataframe tbody tr th:only-of-type {\n",
       "        vertical-align: middle;\n",
       "    }\n",
       "\n",
       "    .dataframe tbody tr th {\n",
       "        vertical-align: top;\n",
       "    }\n",
       "\n",
       "    .dataframe thead th {\n",
       "        text-align: right;\n",
       "    }\n",
       "</style>\n",
       "<table border=\"1\" class=\"dataframe\">\n",
       "  <thead>\n",
       "    <tr style=\"text-align: right;\">\n",
       "      <th></th>\n",
       "      <th>rank_test_score</th>\n",
       "      <th>mean_test_score</th>\n",
       "      <th>param_n_estimators</th>\n",
       "      <th>param_max_depth</th>\n",
       "    </tr>\n",
       "  </thead>\n",
       "  <tbody>\n",
       "    <tr>\n",
       "      <th>17</th>\n",
       "      <td>1</td>\n",
       "      <td>0.838003</td>\n",
       "      <td>200</td>\n",
       "      <td>8</td>\n",
       "    </tr>\n",
       "    <tr>\n",
       "      <th>14</th>\n",
       "      <td>1</td>\n",
       "      <td>0.838003</td>\n",
       "      <td>200</td>\n",
       "      <td>8</td>\n",
       "    </tr>\n",
       "    <tr>\n",
       "      <th>29</th>\n",
       "      <td>3</td>\n",
       "      <td>0.837595</td>\n",
       "      <td>200</td>\n",
       "      <td>10</td>\n",
       "    </tr>\n",
       "    <tr>\n",
       "      <th>26</th>\n",
       "      <td>3</td>\n",
       "      <td>0.837595</td>\n",
       "      <td>200</td>\n",
       "      <td>10</td>\n",
       "    </tr>\n",
       "    <tr>\n",
       "      <th>28</th>\n",
       "      <td>5</td>\n",
       "      <td>0.836779</td>\n",
       "      <td>100</td>\n",
       "      <td>10</td>\n",
       "    </tr>\n",
       "  </tbody>\n",
       "</table>\n",
       "</div>"
      ],
      "text/plain": [
       "    rank_test_score  mean_test_score param_n_estimators param_max_depth\n",
       "17                1         0.838003                200               8\n",
       "14                1         0.838003                200               8\n",
       "29                3         0.837595                200              10\n",
       "26                3         0.837595                200              10\n",
       "28                5         0.836779                100              10"
      ]
     },
     "execution_count": 27,
     "metadata": {},
     "output_type": "execute_result"
    }
   ],
   "source": [
    "cv_results_df = pd.DataFrame(grid_cv.cv_results_)\n",
    "target_col = ['rank_test_score', 'mean_test_score', 'param_n_estimators', 'param_max_depth']\n",
    "cv_results_df[target_col].sort_values('rank_test_score').head()"
   ]
  },
  {
   "cell_type": "code",
   "execution_count": 28,
   "metadata": {},
   "outputs": [
    {
     "data": {
      "text/plain": [
       "{'max_depth': 8,\n",
       " 'min_samples_leaf': 8,\n",
       " 'min_samples_split': 8,\n",
       " 'n_estimators': 200}"
      ]
     },
     "execution_count": 28,
     "metadata": {},
     "output_type": "execute_result"
    }
   ],
   "source": [
    "grid_cv.best_params_"
   ]
  },
  {
   "cell_type": "code",
   "execution_count": 29,
   "metadata": {},
   "outputs": [
    {
     "data": {
      "text/plain": [
       "0.8380032644178455"
      ]
     },
     "execution_count": 29,
     "metadata": {},
     "output_type": "execute_result"
    }
   ],
   "source": [
    "grid_cv.best_score_"
   ]
  },
  {
   "cell_type": "code",
   "execution_count": 30,
   "metadata": {},
   "outputs": [
    {
     "data": {
      "text/plain": [
       "0.8527315914489311"
      ]
     },
     "execution_count": 30,
     "metadata": {},
     "output_type": "execute_result"
    }
   ],
   "source": [
    "from sklearn.metrics import accuracy_score\n",
    "\n",
    "rf_clf_best = grid_cv.best_estimator_\n",
    "rf_clf_best.fit(HAR_pca, y_train.values.reshape(-1,))\n",
    "\n",
    "pred1 = rf_clf_best.predict(pca.transform(X_test))\n",
    "\n",
    "accuracy_score(y_test , pred1)"
   ]
  },
  {
   "cell_type": "code",
   "execution_count": 32,
   "metadata": {},
   "outputs": [
    {
     "name": "stdout",
     "output_type": "stream",
     "text": [
      "[0]\tvalidation_0-merror:0.224975\n",
      "Will train until validation_0-merror hasn't improved in 10 rounds.\n",
      "[1]\tvalidation_0-merror:0.221581\n",
      "[2]\tvalidation_0-merror:0.204276\n"
     ]
    },
    {
     "name": "stderr",
     "output_type": "stream",
     "text": [
      "c:\\users\\oaqqa\\anaconda3\\envs\\dss15\\lib\\site-packages\\sklearn\\utils\\validation.py:72: DataConversionWarning: A column-vector y was passed when a 1d array was expected. Please change the shape of y to (n_samples, ), for example using ravel().\n",
      "  return f(**kwargs)\n"
     ]
    },
    {
     "name": "stdout",
     "output_type": "stream",
     "text": [
      "[3]\tvalidation_0-merror:0.203597\n",
      "[4]\tvalidation_0-merror:0.201561\n",
      "[5]\tvalidation_0-merror:0.202579\n",
      "[6]\tvalidation_0-merror:0.195792\n",
      "[7]\tvalidation_0-merror:0.19681\n",
      "[8]\tvalidation_0-merror:0.192738\n",
      "[9]\tvalidation_0-merror:0.191381\n",
      "[10]\tvalidation_0-merror:0.189345\n",
      "[11]\tvalidation_0-merror:0.18697\n",
      "[12]\tvalidation_0-merror:0.185273\n",
      "[13]\tvalidation_0-merror:0.183237\n",
      "[14]\tvalidation_0-merror:0.181201\n",
      "[15]\tvalidation_0-merror:0.178487\n",
      "[16]\tvalidation_0-merror:0.177808\n",
      "[17]\tvalidation_0-merror:0.176451\n",
      "[18]\tvalidation_0-merror:0.174415\n",
      "[19]\tvalidation_0-merror:0.176111\n",
      "[20]\tvalidation_0-merror:0.174754\n",
      "[21]\tvalidation_0-merror:0.174415\n",
      "[22]\tvalidation_0-merror:0.173736\n",
      "[23]\tvalidation_0-merror:0.174754\n",
      "[24]\tvalidation_0-merror:0.174075\n",
      "[25]\tvalidation_0-merror:0.175772\n",
      "[26]\tvalidation_0-merror:0.173397\n",
      "[27]\tvalidation_0-merror:0.172379\n",
      "[28]\tvalidation_0-merror:0.171021\n",
      "[29]\tvalidation_0-merror:0.171021\n",
      "[30]\tvalidation_0-merror:0.171361\n",
      "[31]\tvalidation_0-merror:0.170682\n",
      "[32]\tvalidation_0-merror:0.168985\n",
      "[33]\tvalidation_0-merror:0.167628\n",
      "[34]\tvalidation_0-merror:0.167628\n",
      "[35]\tvalidation_0-merror:0.167628\n",
      "[36]\tvalidation_0-merror:0.166949\n",
      "[37]\tvalidation_0-merror:0.166271\n",
      "[38]\tvalidation_0-merror:0.164574\n",
      "[39]\tvalidation_0-merror:0.164913\n",
      "[40]\tvalidation_0-merror:0.164574\n",
      "[41]\tvalidation_0-merror:0.164574\n",
      "[42]\tvalidation_0-merror:0.165253\n",
      "[43]\tvalidation_0-merror:0.164235\n",
      "[44]\tvalidation_0-merror:0.164574\n",
      "[45]\tvalidation_0-merror:0.162878\n",
      "[46]\tvalidation_0-merror:0.163556\n",
      "[47]\tvalidation_0-merror:0.162878\n",
      "[48]\tvalidation_0-merror:0.160502\n",
      "[49]\tvalidation_0-merror:0.159824\n",
      "[50]\tvalidation_0-merror:0.157448\n",
      "[51]\tvalidation_0-merror:0.158127\n",
      "[52]\tvalidation_0-merror:0.156091\n",
      "[53]\tvalidation_0-merror:0.155073\n",
      "[54]\tvalidation_0-merror:0.155412\n",
      "[55]\tvalidation_0-merror:0.154394\n",
      "[56]\tvalidation_0-merror:0.154734\n",
      "[57]\tvalidation_0-merror:0.154394\n",
      "[58]\tvalidation_0-merror:0.152019\n",
      "[59]\tvalidation_0-merror:0.152358\n",
      "[60]\tvalidation_0-merror:0.152698\n",
      "[61]\tvalidation_0-merror:0.150322\n",
      "[62]\tvalidation_0-merror:0.149644\n",
      "[63]\tvalidation_0-merror:0.150322\n",
      "[64]\tvalidation_0-merror:0.150662\n",
      "[65]\tvalidation_0-merror:0.15168\n",
      "[66]\tvalidation_0-merror:0.152698\n",
      "[67]\tvalidation_0-merror:0.149983\n",
      "[68]\tvalidation_0-merror:0.150662\n",
      "[69]\tvalidation_0-merror:0.148965\n",
      "[70]\tvalidation_0-merror:0.148965\n",
      "[71]\tvalidation_0-merror:0.149983\n",
      "[72]\tvalidation_0-merror:0.148965\n",
      "[73]\tvalidation_0-merror:0.148965\n",
      "[74]\tvalidation_0-merror:0.149304\n",
      "[75]\tvalidation_0-merror:0.149304\n",
      "[76]\tvalidation_0-merror:0.149304\n",
      "[77]\tvalidation_0-merror:0.148286\n",
      "[78]\tvalidation_0-merror:0.148626\n",
      "[79]\tvalidation_0-merror:0.149304\n",
      "[80]\tvalidation_0-merror:0.147608\n",
      "[81]\tvalidation_0-merror:0.147947\n",
      "[82]\tvalidation_0-merror:0.147947\n",
      "[83]\tvalidation_0-merror:0.147268\n",
      "[84]\tvalidation_0-merror:0.148286\n",
      "[85]\tvalidation_0-merror:0.147268\n",
      "[86]\tvalidation_0-merror:0.14625\n",
      "[87]\tvalidation_0-merror:0.145572\n",
      "[88]\tvalidation_0-merror:0.145232\n",
      "[89]\tvalidation_0-merror:0.144214\n",
      "[90]\tvalidation_0-merror:0.144214\n",
      "[91]\tvalidation_0-merror:0.143875\n",
      "[92]\tvalidation_0-merror:0.143196\n",
      "[93]\tvalidation_0-merror:0.143196\n",
      "[94]\tvalidation_0-merror:0.143536\n",
      "[95]\tvalidation_0-merror:0.142857\n",
      "[96]\tvalidation_0-merror:0.143536\n",
      "[97]\tvalidation_0-merror:0.143875\n",
      "[98]\tvalidation_0-merror:0.142178\n",
      "[99]\tvalidation_0-merror:0.142518\n",
      "[100]\tvalidation_0-merror:0.143196\n",
      "[101]\tvalidation_0-merror:0.142178\n",
      "[102]\tvalidation_0-merror:0.1415\n",
      "[103]\tvalidation_0-merror:0.140821\n",
      "[104]\tvalidation_0-merror:0.140821\n",
      "[105]\tvalidation_0-merror:0.140821\n",
      "[106]\tvalidation_0-merror:0.140821\n",
      "[107]\tvalidation_0-merror:0.141161\n",
      "[108]\tvalidation_0-merror:0.1415\n",
      "[109]\tvalidation_0-merror:0.140482\n",
      "[110]\tvalidation_0-merror:0.140482\n",
      "[111]\tvalidation_0-merror:0.140821\n",
      "[112]\tvalidation_0-merror:0.140482\n",
      "[113]\tvalidation_0-merror:0.139803\n",
      "[114]\tvalidation_0-merror:0.138785\n",
      "[115]\tvalidation_0-merror:0.138446\n",
      "[116]\tvalidation_0-merror:0.139464\n",
      "[117]\tvalidation_0-merror:0.137767\n",
      "[118]\tvalidation_0-merror:0.138107\n",
      "[119]\tvalidation_0-merror:0.138107\n",
      "[120]\tvalidation_0-merror:0.137428\n",
      "[121]\tvalidation_0-merror:0.137767\n",
      "[122]\tvalidation_0-merror:0.138446\n",
      "[123]\tvalidation_0-merror:0.137428\n",
      "[124]\tvalidation_0-merror:0.137428\n",
      "[125]\tvalidation_0-merror:0.137767\n",
      "[126]\tvalidation_0-merror:0.138446\n",
      "[127]\tvalidation_0-merror:0.137767\n",
      "[128]\tvalidation_0-merror:0.13641\n",
      "[129]\tvalidation_0-merror:0.13641\n",
      "[130]\tvalidation_0-merror:0.137767\n",
      "[131]\tvalidation_0-merror:0.137428\n",
      "[132]\tvalidation_0-merror:0.138446\n",
      "[133]\tvalidation_0-merror:0.138446\n",
      "[134]\tvalidation_0-merror:0.137089\n",
      "[135]\tvalidation_0-merror:0.137089\n",
      "[136]\tvalidation_0-merror:0.136749\n",
      "[137]\tvalidation_0-merror:0.136071\n",
      "[138]\tvalidation_0-merror:0.134713\n",
      "[139]\tvalidation_0-merror:0.134713\n",
      "[140]\tvalidation_0-merror:0.135053\n",
      "[141]\tvalidation_0-merror:0.135053\n",
      "[142]\tvalidation_0-merror:0.135053\n",
      "[143]\tvalidation_0-merror:0.134374\n",
      "[144]\tvalidation_0-merror:0.133356\n",
      "[145]\tvalidation_0-merror:0.134374\n",
      "[146]\tvalidation_0-merror:0.135053\n",
      "[147]\tvalidation_0-merror:0.134713\n",
      "[148]\tvalidation_0-merror:0.135731\n",
      "[149]\tvalidation_0-merror:0.136071\n",
      "[150]\tvalidation_0-merror:0.135392\n",
      "[151]\tvalidation_0-merror:0.135731\n",
      "[152]\tvalidation_0-merror:0.135392\n",
      "[153]\tvalidation_0-merror:0.135053\n",
      "[154]\tvalidation_0-merror:0.135053\n",
      "Stopping. Best iteration:\n",
      "[144]\tvalidation_0-merror:0.133356\n",
      "\n",
      "Fit time :  7.899112939834595\n"
     ]
    }
   ],
   "source": [
    "import time\n",
    "from xgboost import XGBClassifier\n",
    "\n",
    "evals = [(pca.transform(X_test), y_test)]\n",
    "\n",
    "start_time = time.time()\n",
    "xgb = XGBClassifier(n_estimators=400, learning_rate=0.1, max_depth=3)\n",
    "xgb.fit(HAR_pca, y_train.values.reshape(-1,),\n",
    "       early_stopping_rounds=10, eval_set=evals)\n",
    "print('Fit time : ', time.time() - start_time)"
   ]
  },
  {
   "cell_type": "code",
   "execution_count": 33,
   "metadata": {},
   "outputs": [
    {
     "data": {
      "text/plain": [
       "0.8666440447913132"
      ]
     },
     "execution_count": 33,
     "metadata": {},
     "output_type": "execute_result"
    }
   ],
   "source": [
    "accuracy_score(y_test, xgb.predict(pca.transform(X_test)))"
   ]
  },
  {
   "cell_type": "code",
   "execution_count": 2,
   "metadata": {},
   "outputs": [
    {
     "data": {
      "text/plain": [
       "((60000, 785), (10000, 785))"
      ]
     },
     "execution_count": 2,
     "metadata": {},
     "output_type": "execute_result"
    }
   ],
   "source": [
    "df_train = pd.read_csv('data/mnist_train.csv')\n",
    "df_test = pd.read_csv('data/mnist_test.csv')\n",
    "\n",
    "df_train.shape, df_test.shape"
   ]
  },
  {
   "cell_type": "code",
   "execution_count": 3,
   "metadata": {},
   "outputs": [],
   "source": [
    "import pandas as pd"
   ]
  },
  {
   "cell_type": "code",
   "execution_count": 4,
   "metadata": {},
   "outputs": [
    {
     "data": {
      "text/plain": [
       "((60000, 784), (60000,), (10000, 784), (10000,))"
      ]
     },
     "execution_count": 4,
     "metadata": {},
     "output_type": "execute_result"
    }
   ],
   "source": [
    "import numpy as np\n",
    "\n",
    "X_train = np.array(df_train.iloc[:, 1:])\n",
    "y_train = np.array(df_train['label'])\n",
    "\n",
    "X_test = np.array(df_test.iloc[:, 1:])\n",
    "y_test = np.array(df_test['label'])\n",
    "\n",
    "X_train.shape, y_train.shape, X_test.shape, y_test.shape"
   ]
  },
  {
   "cell_type": "code",
   "execution_count": 5,
   "metadata": {},
   "outputs": [
    {
     "data": {
      "text/plain": [
       "[45445,\n",
       " 47888,\n",
       " 14574,\n",
       " 49679,\n",
       " 5779,\n",
       " 28902,\n",
       " 54066,\n",
       " 48592,\n",
       " 1758,\n",
       " 42435,\n",
       " 15952,\n",
       " 6028,\n",
       " 55702,\n",
       " 43129,\n",
       " 46262,\n",
       " 29025]"
      ]
     },
     "execution_count": 5,
     "metadata": {},
     "output_type": "execute_result"
    }
   ],
   "source": [
    "import random\n",
    "\n",
    "samples = random.choices(population=range(0, 60000), k=16)\n",
    "samples"
   ]
  },
  {
   "cell_type": "code",
   "execution_count": 6,
   "metadata": {},
   "outputs": [
    {
     "data": {
      "image/png": "[encoded data removed]",
      "text/plain": [
       "<Figure size 1008x864 with 16 Axes>"
      ]
     },
     "metadata": {
      "image/png": {
       "height": 698,
       "width": 787
      },
      "needs_background": "light"
     },
     "output_type": "display_data"
    }
   ],
   "source": [
    "import matplotlib.pyplot as plt\n",
    "\n",
    "plt.figure(figsize=(14,12))\n",
    "\n",
    "for idx, n in enumerate(samples):\n",
    "    plt.subplot(4, 4, idx+1)\n",
    "    plt.imshow(X_train[n].reshape(28,28), cmap='Greys', interpolation='nearest')\n",
    "    plt.title(y_train[n])\n",
    "    \n",
    "plt.show()"
   ]
  },
  {
   "cell_type": "code",
   "execution_count": 7,
   "metadata": {},
   "outputs": [
    {
     "name": "stdout",
     "output_type": "stream",
     "text": [
      "Fit time :  106.12767696380615\n"
     ]
    }
   ],
   "source": [
    "from sklearn.neighbors import KNeighborsClassifier\n",
    "import time\n",
    "\n",
    "start_time = time.time()\n",
    "clf = KNeighborsClassifier(n_neighbors=5)\n",
    "clf.fit(X_train, y_train)\n",
    "print('Fit time : ', time.time() - start_time)"
   ]
  },
  {
   "cell_type": "code",
   "execution_count": 8,
   "metadata": {},
   "outputs": [
    {
     "name": "stdout",
     "output_type": "stream",
     "text": [
      "Fit time :  1274.4921190738678\n",
      "0.9688\n"
     ]
    }
   ],
   "source": [
    "from sklearn.metrics import accuracy_score\n",
    "\n",
    "start_time = time.time()\n",
    "pred = clf.predict(X_test)\n",
    "print('Fit time : ', time.time() - start_time)\n",
    "print(accuracy_score(y_test, pred))"
   ]
  },
  {
   "cell_type": "code",
   "execution_count": 9,
   "metadata": {},
   "outputs": [
    {
     "name": "stdout",
     "output_type": "stream",
     "text": [
      "Fit time :  67.82998418807983\n"
     ]
    }
   ],
   "source": [
    "from sklearn.neighbors import KNeighborsClassifier\n",
    "import time\n",
    "\n",
    "start_time = time.time()\n",
    "clf = KNeighborsClassifier(n_neighbors=5)\n",
    "clf.fit(X_train, y_train)\n",
    "print('Fit time : ', time.time() - start_time)"
   ]
  },
  {
   "cell_type": "code",
   "execution_count": 16,
   "metadata": {},
   "outputs": [
    {
     "name": "stdout",
     "output_type": "stream",
     "text": [
      "Fit time :  1018.8431351184845\n",
      "0.9688\n"
     ]
    }
   ],
   "source": [
    "from sklearn.metrics import accuracy_score\n",
    "\n",
    "start_time = time.time()\n",
    "pred = clf.predict(X_test)\n",
    "print('Fit time : ', time.time() - start_time)\n",
    "print(accuracy_score(y_test, pred))"
   ]
  },
  {
   "cell_type": "code",
   "execution_count": 19,
   "metadata": {},
   "outputs": [
    {
     "name": "stdout",
     "output_type": "stream",
     "text": [
      "Fitting 5 folds for each of 9 candidates, totalling 45 fits\n"
     ]
    },
    {
     "name": "stderr",
     "output_type": "stream",
     "text": [
      "[Parallel(n_jobs=-1)]: Using backend LokyBackend with 8 concurrent workers.\n",
      "[Parallel(n_jobs=-1)]: Done  45 out of  45 | elapsed:  3.0min finished\n"
     ]
    },
    {
     "data": {
      "text/plain": [
       "GridSearchCV(cv=StratifiedKFold(n_splits=5, random_state=13, shuffle=True),\n",
       "             estimator=Pipeline(steps=[('pca', PCA()),\n",
       "                                       ('clf', KNeighborsClassifier())]),\n",
       "             n_jobs=-1,\n",
       "             param_grid={'clf__n_neighbors': [5, 10, 15],\n",
       "                         'pca__n_components': [2, 5, 10]},\n",
       "             verbose=1)"
      ]
     },
     "execution_count": 19,
     "metadata": {},
     "output_type": "execute_result"
    }
   ],
   "source": [
    "from sklearn.pipeline import Pipeline\n",
    "from sklearn.decomposition import PCA\n",
    "from sklearn.model_selection import GridSearchCV, StratifiedKFold\n",
    "\n",
    "pipe = Pipeline([\n",
    "    ('pca', PCA()),\n",
    "    ('clf', KNeighborsClassifier()),\n",
    "])\n",
    "\n",
    "parameters = {\n",
    "    'pca__n_components' : [2, 5, 10],\n",
    "    'clf__n_neighbors' : [5, 10, 15]\n",
    "}\n",
    "\n",
    "kf = StratifiedKFold(n_splits=5, shuffle=True, random_state=13)\n",
    "grid = GridSearchCV(pipe, parameters, cv=kf, n_jobs=-1, verbose=1)\n",
    "grid.fit(X_train, y_train)"
   ]
  },
  {
   "cell_type": "code",
   "execution_count": 23,
   "metadata": {},
   "outputs": [
    {
     "name": "stdout",
     "output_type": "stream",
     "text": [
      "BEst score: 0.931\n",
      "best parameters set:\n",
      "\tclf__n_neighbors: 10\n",
      "\tpca__n_components: 10\n"
     ]
    }
   ],
   "source": [
    "print(\"BEst score: %0.3f\" % grid.best_score_)\n",
    "print(\"best parameters set:\")\n",
    "best_parameters = grid.best_estimator_.get_params()\n",
    "for param_name in sorted(parameters.keys()):\n",
    "    print(\"\\t%s: %r\" % (param_name, best_parameters[param_name]))"
   ]
  },
  {
   "cell_type": "code",
   "execution_count": 24,
   "metadata": {},
   "outputs": [
    {
     "data": {
      "text/plain": [
       "0.9291"
      ]
     },
     "execution_count": 24,
     "metadata": {},
     "output_type": "execute_result"
    }
   ],
   "source": [
    "accuracy_score(y_test, grid.best_estimator_.predict(X_test))"
   ]
  },
  {
   "cell_type": "code",
   "execution_count": 26,
   "metadata": {},
   "outputs": [
    {
     "name": "stdout",
     "output_type": "stream",
     "text": [
      "              precision    recall  f1-score   support\n",
      "\n",
      "           0       0.96      0.98      0.97      5923\n",
      "           1       0.98      0.99      0.98      6742\n",
      "           2       0.96      0.96      0.96      5958\n",
      "           3       0.94      0.90      0.92      6131\n",
      "           4       0.94      0.93      0.93      5842\n",
      "           5       0.93      0.94      0.93      5421\n",
      "           6       0.96      0.98      0.97      5918\n",
      "           7       0.96      0.95      0.96      6265\n",
      "           8       0.92      0.91      0.91      5851\n",
      "           9       0.90      0.91      0.90      5949\n",
      "\n",
      "    accuracy                           0.95     60000\n",
      "   macro avg       0.94      0.94      0.94     60000\n",
      "weighted avg       0.94      0.95      0.94     60000\n",
      "\n"
     ]
    }
   ],
   "source": [
    "def results(y_pred, y_test):\n",
    "    from sklearn.metrics import classification_report, confusion_matrix\n",
    "    print(classification_report(y_test, y_pred))\n",
    "    \n",
    "results(grid.predict(X_train), y_train)"
   ]
  },
  {
   "cell_type": "code",
   "execution_count": 28,
   "metadata": {},
   "outputs": [
    {
     "data": {
      "image/png": "[encoded data removed]",
      "text/plain": [
       "<Figure size 432x288 with 1 Axes>"
      ]
     },
     "metadata": {
      "image/png": {
       "height": 248,
       "width": 251
      },
      "needs_background": "light"
     },
     "output_type": "display_data"
    },
    {
     "name": "stdout",
     "output_type": "stream",
     "text": [
      "Answer is :  [1]\n"
     ]
    }
   ],
   "source": [
    "n = 700\n",
    "plt.imshow(X_test[n].reshape(28,28), cmap='Greys', interpolation='nearest')\n",
    "plt.show()\n",
    "\n",
    "print('Answer is : ', grid.best_estimator_.predict(X_test[n].reshape(1,784)))"
   ]
  },
  {
   "cell_type": "code",
   "execution_count": 29,
   "metadata": {},
   "outputs": [
    {
     "data": {
      "text/plain": [
       "array([7, 2, 1, ..., 4, 5, 6], dtype=int64)"
      ]
     },
     "execution_count": 29,
     "metadata": {},
     "output_type": "execute_result"
    }
   ],
   "source": [
    "preds = grid.best_estimator_.predict(X_test)\n",
    "preds"
   ]
  },
  {
   "cell_type": "code",
   "execution_count": 30,
   "metadata": {},
   "outputs": [
    {
     "data": {
      "text/plain": [
       "array([7, 2, 1, ..., 4, 5, 6], dtype=int64)"
      ]
     },
     "execution_count": 30,
     "metadata": {},
     "output_type": "execute_result"
    }
   ],
   "source": [
    "y_test"
   ]
  },
  {
   "cell_type": "code",
   "execution_count": 35,
   "metadata": {},
   "outputs": [
    {
     "data": {
      "image/png": "[encoded data removed]",
      "text/plain": [
       "<Figure size 1008x864 with 16 Axes>"
      ]
     },
     "metadata": {
      "image/png": {
       "height": 698,
       "width": 787
      },
      "needs_background": "light"
     },
     "output_type": "display_data"
    }
   ],
   "source": [
    "wrong_results = X_test[y_test != preds]\n",
    "samples = random.choices(population=range(0, wrong_results.shape[0]), k=16)\n",
    "\n",
    "plt.figure(figsize=(14,12))\n",
    "\n",
    "for idx, n in enumerate(samples):\n",
    "    plt.subplot(4, 4, idx+1)\n",
    "    plt.imshow(wrong_results[n].reshape(28,28), cmap='Greys', interpolation='nearest')\n",
    "    plt.title(grid.best_estimator_.predict(wrong_results[n].reshape(1, 784))[0])\n",
    "    \n",
    "plt.show()"
   ]
  },
  {
   "cell_type": "code",
   "execution_count": null,
   "metadata": {},
   "outputs": [],
   "source": []
  }
 ],
 "metadata": {
  "kernelspec": {
   "display_name": "Python 3",
   "language": "python",
   "name": "python3"
  },
  "language_info": {
   "codemirror_mode": {
    "name": "ipython",
    "version": 3
   },
   "file_extension": ".py",
   "mimetype": "text/x-python",
   "name": "python",
   "nbconvert_exporter": "python",
   "pygments_lexer": "ipython3",
   "version": "3.7.9"
  }
 },
 "nbformat": 4,
 "nbformat_minor": 4
}
