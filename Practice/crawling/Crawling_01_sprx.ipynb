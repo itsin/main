{
 "cells": [
  {
   "cell_type": "code",
   "execution_count": 1,
   "metadata": {},
   "outputs": [],
   "source": [
    "from selenium import webdriver\n",
    "from PIL import Image as pil\n",
    "import requests\n",
    "from bs4 import BeautifulSoup\n",
    "from fake_useragent import UserAgent"
   ]
  },
  {
   "cell_type": "code",
   "execution_count": 28,
   "metadata": {},
   "outputs": [],
   "source": [
    "\n",
    "def get_list(page):\n",
    "    url = 'https://www.sprx.kr/goods/goods_list.php?page={}&cateCd=001001'.format(page)\n",
    "   \n",
    "        \n",
    "        \n",
    "    driver = webdriver.Chrome()\n",
    "    driver.get(url)\n",
    "    items = driver.find_elements_by_css_selector('div.item_info_cont')\n",
    "    \n",
    "    \n",
    "    \n",
    "    datas = []\n",
    "    for item in items:\n",
    "        item_name = item.find_element_by_css_selector('.item_name').text\n",
    "        item_explain = item.find_element_by_css_selector('.item_name_explain').text.replace('#','')\n",
    "        price = item.find_element_by_css_selector('div.item_money_box').text\n",
    "        Sprice = item.find_element_by_css_selector('div.item_money_box > strong').text\n",
    "       \n",
    "        response = requests.get(url)\n",
    "        soup = BeautifulSoup(response.content,'html.parser')\n",
    "        \n",
    "        \n",
    "            datas.append({\n",
    "            'item_name': item_name,\n",
    "            'item_explain' : item_explain,\n",
    "            'price' : price,\n",
    "            'Sprice': Sprice,\n",
    "        })\n",
    "    driver.quit()\n",
    "    \n",
    "    return pd.DataFrame(datas)"
   ]
  },
  {
   "cell_type": "code",
   "execution_count": 29,
   "metadata": {
    "scrolled": true
   },
   "outputs": [
    {
     "ename": "TypeError",
     "evalue": "get_list() missing 1 required positional argument: 'page'",
     "output_type": "error",
     "traceback": [
      "\u001b[1;31m---------------------------------------------------------------------------\u001b[0m",
      "\u001b[1;31mTypeError\u001b[0m                                 Traceback (most recent call last)",
      "\u001b[1;32m<ipython-input-29-3bac5a0e5717>\u001b[0m in \u001b[0;36m<module>\u001b[1;34m\u001b[0m\n\u001b[1;32m----> 1\u001b[1;33m \u001b[0mitems_df\u001b[0m \u001b[1;33m=\u001b[0m\u001b[0mget_list\u001b[0m\u001b[1;33m(\u001b[0m\u001b[1;33m)\u001b[0m\u001b[1;33m\u001b[0m\u001b[1;33m\u001b[0m\u001b[0m\n\u001b[0m\u001b[0;32m      2\u001b[0m \u001b[0mitems_df\u001b[0m\u001b[1;33m\u001b[0m\u001b[1;33m\u001b[0m\u001b[0m\n",
      "\u001b[1;31mTypeError\u001b[0m: get_list() missing 1 required positional argument: 'page'"
     ]
    }
   ],
   "source": [
    "items_df =get_list()\n",
    "items_df "
   ]
  },
  {
   "cell_type": "code",
   "execution_count": 13,
   "metadata": {},
   "outputs": [
    {
     "data": {
      "text/plain": [
       "20"
      ]
     },
     "execution_count": 13,
     "metadata": {},
     "output_type": "execute_result"
    }
   ],
   "source": [
    "elements = soup.select('.item_tit_box > a > strong')\n",
    "len(elements)"
   ]
  },
  {
   "cell_type": "code",
   "execution_count": null,
   "metadata": {},
   "outputs": [],
   "source": []
  }
 ],
 "metadata": {
  "kernelspec": {
   "display_name": "Python 3",
   "language": "python",
   "name": "python3"
  },
  "language_info": {
   "codemirror_mode": {
    "name": "ipython",
    "version": 3
   },
   "file_extension": ".py",
   "mimetype": "text/x-python",
   "name": "python",
   "nbconvert_exporter": "python",
   "pygments_lexer": "ipython3",
   "version": "3.7.6"
  }
 },
 "nbformat": 4,
 "nbformat_minor": 4
}
