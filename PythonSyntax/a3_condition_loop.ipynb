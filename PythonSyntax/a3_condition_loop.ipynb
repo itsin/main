{
 "cells": [
  {
   "cell_type": "markdown",
   "metadata": {},
   "source": [
    "### summary\n",
    "- jupyter notebook\n",
    "    - mode : 명령모드, 편집모드\n",
    "    - style : markdown. code\n",
    "    - 단축키 \n",
    "        - 실행: shift + enter\n",
    "        - 자동완성 : tab\n",
    "        - doctstring 보기 : shift + tab\n",
    "        - 주석설정 : cmd(crlt) + /\n",
    "        - 셀 생성 : a(위에), b(아래)\n",
    "    - python 기본문법\n",
    "        - 변수 선언: RAM 저장공간에 값을 할당하는 행위\n",
    "        - 식별자 규칙\n",
    "            - 대문자, 소문자, 숫자, _\n",
    "            - 가장 앞글자 숫자사용 불가\n",
    "            - 예약어 사용 불가 : def, class....\n",
    "            - snake_case(변수, 함수), CamelCase(클래스)\n",
    "            - pop8문서 \n",
    "        - 데이터 타입\n",
    "            - 동적타이핑 : 자동으로 저장공간의 데이터 타입이 설정\n",
    "            - 기본 데이터타입 : int, float, bool, str\n",
    "            - 컬렉션 데이터 타입: list(iterable), tuple(iterable), dict\n",
    "            - offset index : 특정 위치의 데이터를 출력할 때, 사용\n",
    "            - [] : mask, masking\n",
    "            - [idx] : idx위치 데이터를 출력\n",
    "            - [start:end] : start에서 end까지 출력(end는 포함되지 않음)\n",
    "            - [start:end:stride] : stride만큼씩 점프하여 출력\n",
    "        - 각 데이터 타입별로 함수가 있다. \n",
    "        - 형변환\n",
    "            - 이미 변수에 설정된 데이터 타입을 변경하는 행위\n",
    "            - zip : 여러개의 리스트를 같은 인덱스 끼리 묶어주는 함수 \n",
    "            - 두개의 리스트를 묶어서 dict 형변환\n",
    "        - 연산자\n",
    "            - 산술연산자 : +, -, *, /, //, %, **\n",
    "            - 할당연산자 : A (산술)= (data)\n",
    "            - 비교연산자 : <, > ==, !=, >=, <=\n",
    "            - 논리연산자 : and, or, not\n",
    "            - 멤버연산자 : in, not in"
   ]
  },
  {
   "cell_type": "markdown",
   "metadata": {},
   "source": [
    "### 1. 조건문\n",
    "- 특정 조건에 따라서 코드를 실행하고자 할 때, 사용\n",
    "- if, else, elif"
   ]
  },
  {
   "cell_type": "code",
   "execution_count": 1,
   "metadata": {},
   "outputs": [
    {
     "name": "stdout",
     "output_type": "stream",
     "text": [
      "python\n",
      "done\n"
     ]
    }
   ],
   "source": [
    "# 조건부분에  : bool 데이터 타입 이외의 데이터 타입이 오면 bool으로 형변환 되어 판단\n",
    "if True:\n",
    "    print(\"python\")\n",
    "\n",
    "print(\"done\")"
   ]
  },
  {
   "cell_type": "code",
   "execution_count": 2,
   "metadata": {},
   "outputs": [
    {
     "data": {
      "text/plain": [
       "(False, True, True, True)"
      ]
     },
     "execution_count": 2,
     "metadata": {},
     "output_type": "execute_result"
    }
   ],
   "source": [
    "# int : 0을 제외한 나머지 값은 True\n",
    "bool(0),bool(1),bool(2),bool(-1)"
   ]
  },
  {
   "cell_type": "code",
   "execution_count": 3,
   "metadata": {},
   "outputs": [
    {
     "name": "stdout",
     "output_type": "stream",
     "text": [
      "python_2\n"
     ]
    }
   ],
   "source": [
    "num = 0\n",
    "\n",
    "if num:\n",
    "    print(\"python_1\")\n",
    "\n",
    "num = 2\n",
    "if num:\n",
    "    print(\"python_2\")"
   ]
  },
  {
   "cell_type": "code",
   "execution_count": 7,
   "metadata": {},
   "outputs": [
    {
     "name": "stdout",
     "output_type": "stream",
     "text": [
      "홀수\n"
     ]
    }
   ],
   "source": [
    "number = 7\n",
    "\n",
    "if number % 2:\n",
    "    print(\"홀수\")"
   ]
  },
  {
   "cell_type": "code",
   "execution_count": 8,
   "metadata": {},
   "outputs": [],
   "source": [
    "# float : 0.0을 제외한 나머지 실수는  True\n",
    "# str : \"\"를 제외한 나머지 문자열은  True\n",
    "# list, tuple, dict : [], (), {}를 제외한 나머지는 True"
   ]
  },
  {
   "cell_type": "code",
   "execution_count": null,
   "metadata": {},
   "outputs": [],
   "source": [
    "# 지갑에 돈이 10000원 이상 있으면 택시를 타고 아니면 걸어서 간다."
   ]
  },
  {
   "cell_type": "code",
   "execution_count": 15,
   "metadata": {},
   "outputs": [
    {
     "name": "stdout",
     "output_type": "stream",
     "text": [
      "버스를 탄다\n"
     ]
    }
   ],
   "source": [
    "money = 3000\n",
    "\n",
    "if money >= 10000:\n",
    "    print(\"택시를 탄다\")\n",
    "elif money >= 5000 and money:\n",
    "    print(\"광역 버스를 탄다\")\n",
    "elif money >= 2000 and money:\n",
    "    print(\"버스를 탄다\")\n",
    "    \n",
    "else: \n",
    "    print(\"걸어간다\")"
   ]
  },
  {
   "cell_type": "code",
   "execution_count": 16,
   "metadata": {},
   "outputs": [],
   "source": [
    "# 계좌에 10000원이 들어 있다. \n",
    "# 인출 금액을 입력 받는다.\n",
    "# 인출 금액이 계좌에 있는 금액보다 크면 \"인출이 불가능 하다\".로 출력\n",
    "# 인출 금액이 계좌에 있는 긍맥보다 작으면 \"인출 되었습니다.\" 출력\n",
    "# 마지막에 현재 계좌의 잔액을 출력"
   ]
  },
  {
   "cell_type": "code",
   "execution_count": 30,
   "metadata": {},
   "outputs": [],
   "source": [
    "account = 10000"
   ]
  },
  {
   "cell_type": "code",
   "execution_count": 33,
   "metadata": {},
   "outputs": [
    {
     "name": "stdout",
     "output_type": "stream",
     "text": [
      "insert draw money: 5000\n",
      "잔액이 부족합니다.: -3839원의 잔액이 부족합니다.\n",
      "현재 잔액은1161 원 입니다.\n"
     ]
    }
   ],
   "source": [
    "draw_money = int(input(\"insert draw money: \"))\n",
    "\n",
    "if account >= draw_money:\n",
    "    account -= draw_money\n",
    "    print(str(draw_money) + \"원이 인출 되었습니다.\")\n",
    "else:\n",
    "    print(\"잔액이 부족합니다.: \" + str(account - draw_money) + \"원의 잔액이 부족합니다.\")\n",
    "    \n",
    "print(\"현재 잔액은\" + str(account) + \" 원 입니다.\")"
   ]
  },
  {
   "cell_type": "code",
   "execution_count": 36,
   "metadata": {},
   "outputs": [
    {
     "name": "stdout",
     "output_type": "stream",
     "text": [
      "현재 잔액은1159 원 입니다.\n",
      "현재 잔액은 1159원 입니다. 인출금액은 2입니다.\n"
     ]
    }
   ],
   "source": [
    "# string 데이터 타입의 format 함수\n",
    "print(\"현재 잔액은\" + str(account) + \" 원 입니다.\")\n",
    "print(\"현재 잔액은 {}원 입니다. 인출금액은 {}입니다.\".format(account, draw_money))"
   ]
  },
  {
   "cell_type": "markdown",
   "metadata": {},
   "source": [
    "#### 삼항연산자\n",
    "- 간단한 if, else 구문을 한줄의 코드로 표현할수 있는 방법\n",
    "- (True) if (condition) else (False)"
   ]
  },
  {
   "cell_type": "code",
   "execution_count": 37,
   "metadata": {},
   "outputs": [
    {
     "name": "stdout",
     "output_type": "stream",
     "text": [
      "not zero\n"
     ]
    }
   ],
   "source": [
    "# data 변수에 0이면 \"Zero\", \"not zero\"출력\n",
    "data = 1\n",
    "\n",
    "if data:\n",
    "    print(\"not zero\")\n",
    "\n",
    "else: \n",
    "    print(\"zero\")"
   ]
  },
  {
   "cell_type": "code",
   "execution_count": 41,
   "metadata": {},
   "outputs": [
    {
     "data": {
      "text/plain": [
       "'zero'"
      ]
     },
     "execution_count": 41,
     "metadata": {},
     "output_type": "execute_result"
    }
   ],
   "source": [
    " data = 0\n",
    "result = \"not zero\" if data else \"zero\"\n",
    "result"
   ]
  },
  {
   "cell_type": "markdown",
   "metadata": {},
   "source": [
    "### 2. 반복문\n",
    "- 반복되는 코드를 실행할 때, 사용\n",
    "- while, for, break, continue\n",
    "- list comprehention"
   ]
  },
  {
   "cell_type": "code",
   "execution_count": 43,
   "metadata": {},
   "outputs": [
    {
     "name": "stdout",
     "output_type": "stream",
     "text": [
      "3\n",
      "2\n",
      "1\n"
     ]
    }
   ],
   "source": [
    "# while\n",
    "data = 3\n",
    "\n",
    "while data: # 조건이 False가 될 때까지, 구문의 코드를 실행\n",
    "    \n",
    "    # 반복되는 코드\n",
    "    print(data)\n",
    "    data -= 1\n",
    "    "
   ]
  },
  {
   "cell_type": "code",
   "execution_count": null,
   "metadata": {},
   "outputs": [],
   "source": [
    "# 학생이 국어:80점 영어:90점 수학:100점 while 문이용 총점 출력\n",
    "# 학생의 점수는 list, dict로 표현"
   ]
  },
  {
   "cell_type": "code",
   "execution_count": 55,
   "metadata": {},
   "outputs": [
    {
     "name": "stdout",
     "output_type": "stream",
     "text": [
      "270\n"
     ]
    }
   ],
   "source": [
    "point = {\"Korean\":80, \"English\":90, \"Math\":100}\n",
    "Subject = list(point.values())\n",
    "idx = len(Subject)\n",
    "result = 0\n",
    "\n",
    "while idx:\n",
    "    idx -= 1\n",
    "    result = result + Subject[idx]\n",
    "    \n",
    "print(result)"
   ]
  },
  {
   "cell_type": "code",
   "execution_count": 57,
   "metadata": {},
   "outputs": [],
   "source": [
    "subject_ls = [\"Korean\", \"English\", \"Math\"]\n",
    "points_ls = [80, 90, 100]\n",
    "points_dict = {\"Korean\":80, \"English\":90, \"Math\":100}"
   ]
  },
  {
   "cell_type": "code",
   "execution_count": 59,
   "metadata": {},
   "outputs": [],
   "source": [
    "datas = points_ls.copy() #깊은복사 : 원본데이터를 보존"
   ]
  },
  {
   "cell_type": "code",
   "execution_count": 60,
   "metadata": {},
   "outputs": [],
   "source": [
    "total, avg = 0, 0"
   ]
  },
  {
   "cell_type": "code",
   "execution_count": 61,
   "metadata": {},
   "outputs": [
    {
     "data": {
      "text/plain": [
       "(270, 90.0)"
      ]
     },
     "execution_count": 61,
     "metadata": {},
     "output_type": "execute_result"
    }
   ],
   "source": [
    "while datas:\n",
    "    total += datas.pop()\n",
    "avg = total / len(points_ls)\n",
    "total, avg"
   ]
  },
  {
   "cell_type": "code",
   "execution_count": 67,
   "metadata": {},
   "outputs": [
    {
     "name": "stdout",
     "output_type": "stream",
     "text": [
      "10\n"
     ]
    }
   ],
   "source": [
    "# 무한루프 : break\n",
    "# break : 반복문을 중단시키는 예약어\n",
    "result = 1\n",
    "while result:\n",
    "    result += 1\n",
    "    \n",
    "    if result >= 10:\n",
    "        break\n",
    "        \n",
    "    \n",
    "print(result)"
   ]
  },
  {
   "cell_type": "markdown",
   "metadata": {},
   "source": [
    "# for \n",
    "- iterable한 값을 하나씩 꺼내서 value에 대입시킨후 코드를 interable 변수의 값 갯수만큼 실행\n",
    "```\n",
    "for <variable> in <interable>:\n",
    "    <cod>\n",
    "```"
   ]
  },
  {
   "cell_type": "code",
   "execution_count": 77,
   "metadata": {},
   "outputs": [
    {
     "name": "stdout",
     "output_type": "stream",
     "text": [
      "0 2 4 "
     ]
    }
   ],
   "source": [
    "# for : continue : 조건부분으로 올라가서 코드가 실행\n",
    "ls = [0,1,2,3,4,]\n",
    "for data in ls:\n",
    "    \n",
    "    if data % 2: # data가 홀수가 되면 contiue를 실행\n",
    "        continue\n",
    "    print(data, end=\" \")\n",
    "    \n"
   ]
  },
  {
   "cell_type": "code",
   "execution_count": 80,
   "metadata": {},
   "outputs": [
    {
     "data": {
      "text/plain": [
       "4950"
      ]
     },
     "execution_count": 80,
     "metadata": {},
     "output_type": "execute_result"
    }
   ],
   "source": [
    "# for를 이용해서 코드를 100번 실행\n",
    "# range 함수\n",
    "list(range(100))\n",
    "result = 0\n",
    "for data in range(100):\n",
    "    result += data\n",
    "result"
   ]
  },
  {
   "cell_type": "code",
   "execution_count": 81,
   "metadata": {},
   "outputs": [
    {
     "data": {
      "text/plain": [
       "int"
      ]
     },
     "execution_count": 81,
     "metadata": {},
     "output_type": "execute_result"
    }
   ],
   "source": [
    "type(result)"
   ]
  },
  {
   "cell_type": "code",
   "execution_count": 85,
   "metadata": {},
   "outputs": [
    {
     "data": {
      "text/plain": [
       "([0, 1, 2, 3, 4], [5, 7, 9], [10, 8, 6, 4, 2])"
      ]
     },
     "execution_count": 85,
     "metadata": {},
     "output_type": "execute_result"
    }
   ],
   "source": [
    "# offset index 개념과 비슷하게 사용\n",
    "list(range(5)), list(range(5,10,2)), list(range(10,0,-2))"
   ]
  },
  {
   "cell_type": "code",
   "execution_count": 93,
   "metadata": {},
   "outputs": [
    {
     "data": {
      "text/plain": [
       "30"
      ]
     },
     "execution_count": 93,
     "metadata": {},
     "output_type": "execute_result"
    }
   ],
   "source": [
    "# 0~10까지 짝수를 더한 총합\n",
    "result = 0\n",
    "for number in range(0,11,2):\n",
    "    result += number\n",
    "result"
   ]
  },
  {
   "cell_type": "code",
   "execution_count": 107,
   "metadata": {},
   "outputs": [
    {
     "data": {
      "text/plain": [
       "([0, 2, 4, 6, 8, 10], [1, 3, 5, 7, 9])"
      ]
     },
     "execution_count": 107,
     "metadata": {},
     "output_type": "execute_result"
    }
   ],
   "source": [
    "list(range(0,11,2)), list(range(1,11,2))"
   ]
  },
  {
   "cell_type": "code",
   "execution_count": 108,
   "metadata": {},
   "outputs": [],
   "source": [
    "points_dict = {\"Korean\":80, \"English\":90, \"Math\":100}"
   ]
  },
  {
   "cell_type": "code",
   "execution_count": 109,
   "metadata": {},
   "outputs": [
    {
     "data": {
      "text/plain": [
       "['Korean', 'English', 'Math']"
      ]
     },
     "execution_count": 109,
     "metadata": {},
     "output_type": "execute_result"
    }
   ],
   "source": [
    "list(points_dict.keys())"
   ]
  },
  {
   "cell_type": "code",
   "execution_count": 110,
   "metadata": {},
   "outputs": [
    {
     "data": {
      "text/plain": [
       "[('Korean', 80), ('English', 90), ('Math', 100)]"
      ]
     },
     "execution_count": 110,
     "metadata": {},
     "output_type": "execute_result"
    }
   ],
   "source": [
    "list(points_dict.items())"
   ]
  },
  {
   "cell_type": "code",
   "execution_count": 112,
   "metadata": {},
   "outputs": [
    {
     "name": "stdout",
     "output_type": "stream",
     "text": [
      "Korean 80\n",
      "English 90\n",
      "Math 100\n"
     ]
    }
   ],
   "source": [
    "for subject, points in points_dict.items(): \n",
    "    print(subject, points)"
   ]
  },
  {
   "cell_type": "code",
   "execution_count": 116,
   "metadata": {},
   "outputs": [
    {
     "data": {
      "text/plain": [
       "[('Korean', 80), ('English', 90), ('Math', 100)]"
      ]
     },
     "execution_count": 116,
     "metadata": {},
     "output_type": "execute_result"
    }
   ],
   "source": [
    "list(zip(subject_ls, points_ls))"
   ]
  },
  {
   "cell_type": "code",
   "execution_count": 113,
   "metadata": {},
   "outputs": [
    {
     "data": {
      "text/plain": [
       "(1, 2)"
      ]
     },
     "execution_count": 113,
     "metadata": {},
     "output_type": "execute_result"
    }
   ],
   "source": [
    "# tuple\n",
    "a, b = (1,2)\n",
    "a, b"
   ]
  },
  {
   "cell_type": "code",
   "execution_count": 114,
   "metadata": {},
   "outputs": [
    {
     "name": "stdout",
     "output_type": "stream",
     "text": [
      "Korean 80\n",
      "English 90\n",
      "Math 100\n"
     ]
    }
   ],
   "source": [
    "subject_ls = [\"Korean\", \"English\", \"Math\"]\n",
    "points_ls = [80, 90, 100]\n",
    "for subject, points in zip(subject_ls, points_ls): #for문으로 변수를 받을 때, tuple로 나올 경우, 여러개의 변수를 받을 수 있다.\n",
    "    print(subject, points)"
   ]
  },
  {
   "cell_type": "code",
   "execution_count": 117,
   "metadata": {},
   "outputs": [],
   "source": [
    "# 구구단 출력(가로출력)"
   ]
  },
  {
   "cell_type": "code",
   "execution_count": 146,
   "metadata": {},
   "outputs": [
    {
     "name": "stdout",
     "output_type": "stream",
     "text": [
      "2*1=2\t3*1=3\t4*1=4\t5*1=5\t6*1=6\t7*1=7\t8*1=8\t9*1=9\t\n",
      "2*2=4\t3*2=6\t4*2=8\t5*2=10\t6*2=12\t7*2=14\t8*2=16\t9*2=18\t\n",
      "2*3=6\t3*3=9\t4*3=12\t5*3=15\t6*3=18\t7*3=21\t8*3=24\t9*3=27\t\n",
      "2*4=8\t3*4=12\t4*4=16\t5*4=20\t6*4=24\t7*4=28\t8*4=32\t9*4=36\t\n",
      "2*5=10\t3*5=15\t4*5=20\t5*5=25\t6*5=30\t7*5=35\t8*5=40\t9*5=45\t\n",
      "2*6=12\t3*6=18\t4*6=24\t5*6=30\t6*6=36\t7*6=42\t8*6=48\t9*6=54\t\n",
      "2*7=14\t3*7=21\t4*7=28\t5*7=35\t6*7=42\t7*7=49\t8*7=56\t9*7=63\t\n",
      "2*8=16\t3*8=24\t4*8=32\t5*8=40\t6*8=48\t7*8=56\t8*8=64\t9*8=72\t\n",
      "2*9=18\t3*9=27\t4*9=36\t5*9=45\t6*9=54\t7*9=63\t8*9=72\t9*9=81\t\n"
     ]
    }
   ],
   "source": [
    "for num2 in range (1,10):\n",
    "    for num1 in range(2,10):\n",
    "        \n",
    "        print(\"{}*{}={}\".format(num1,num2,num1*num2),end=\"\\t\")\n",
    "    print()\n",
    "    \n",
    "   "
   ]
  },
  {
   "cell_type": "code",
   "execution_count": 153,
   "metadata": {},
   "outputs": [
    {
     "name": "stdout",
     "output_type": "stream",
     "text": [
      "2*1=3\t3*1=4\t4*1=5\t5*1=6\t6*1=7\t7*1=8\t8*1=9\t9*1=10\t\n",
      "2*2=4\t3*2=5\t4*2=6\t5*2=7\t6*2=8\t7*2=9\t8*2=10\t9*2=11\t\n",
      "2*3=5\t3*3=6\t4*3=7\t5*3=8\t6*3=9\t7*3=10\t8*3=11\t9*3=12\t\n",
      "2*4=6\t3*4=7\t4*4=8\t5*4=9\t6*4=10\t7*4=11\t8*4=12\t9*4=13\t\n",
      "2*5=7\t3*5=8\t4*5=9\t5*5=10\t6*5=11\t7*5=12\t8*5=13\t9*5=14\t\n",
      "2*6=8\t3*6=9\t4*6=10\t5*6=11\t6*6=12\t7*6=13\t8*6=14\t9*6=15\t\n",
      "2*7=9\t3*7=10\t4*7=11\t5*7=12\t6*7=13\t7*7=14\t8*7=15\t9*7=16\t\n",
      "2*8=10\t3*8=11\t4*8=12\t5*8=13\t6*8=14\t7*8=15\t8*8=16\t9*8=17\t\n",
      "2*9=11\t3*9=12\t4*9=13\t5*9=14\t6*9=15\t7*9=16\t8*9=17\t9*9=18\t\n"
     ]
    }
   ],
   "source": [
    "for num2 in range(1,10):\n",
    "    for num1 in range(2,10):\n",
    "        print(\"{}*{}={}\".format(num1,num2,num1 + num2),end=\"\\t\")\n",
    "    print()"
   ]
  },
  {
   "cell_type": "markdown",
   "metadata": {},
   "source": [
    "### 3.List Comprehention\n",
    "- 리스트 데이터를 만들어주는 방법\n",
    "- for문보다 빠르게 동작한다."
   ]
  },
  {
   "cell_type": "code",
   "execution_count": 154,
   "metadata": {},
   "outputs": [
    {
     "data": {
      "text/plain": [
       "[0, 1, 4, 9]"
      ]
     },
     "execution_count": 154,
     "metadata": {},
     "output_type": "execute_result"
    }
   ],
   "source": [
    "#각각의 값에 제곱한 결과 출력\n",
    "ls = [0,1,2,3]\n",
    "result = []\n",
    "for data in ls:\n",
    "    result.append(data**2)\n",
    "result"
   ]
  },
  {
   "cell_type": "code",
   "execution_count": 156,
   "metadata": {},
   "outputs": [
    {
     "data": {
      "text/plain": [
       "[0, 1, 4, 9]"
      ]
     },
     "execution_count": 156,
     "metadata": {},
     "output_type": "execute_result"
    }
   ],
   "source": [
    "result = [data **2 for data in ls]\n",
    "result"
   ]
  },
  {
   "cell_type": "code",
   "execution_count": 164,
   "metadata": {},
   "outputs": [
    {
     "data": {
      "text/plain": [
       "['짝수', '홀수', '짝수', '홀수']"
      ]
     },
     "execution_count": 164,
     "metadata": {},
     "output_type": "execute_result"
    }
   ],
   "source": [
    "#  list comprehention을 이용하여 짝수 리스트 출력\n",
    "ls = [0,1,2,3]\n",
    "result = [\n",
    "    \"홀수\" if data %2 else \"짝수\"\n",
    "    for data in ls\n",
    "]\n",
    "\n",
    "result"
   ]
  },
  {
   "cell_type": "code",
   "execution_count": 167,
   "metadata": {},
   "outputs": [
    {
     "data": {
      "text/plain": [
       "[1, 3, 5, 7, 9]"
      ]
     },
     "execution_count": 167,
     "metadata": {},
     "output_type": "execute_result"
    }
   ],
   "source": [
    "# list comprehention 조건문\n",
    "ls = range(10)\n",
    "[data for data in ls if data %2]"
   ]
  },
  {
   "cell_type": "code",
   "execution_count": 174,
   "metadata": {},
   "outputs": [
    {
     "data": {
      "text/plain": [
       "['clear', 'copy', 'count']"
      ]
     },
     "execution_count": 174,
     "metadata": {},
     "output_type": "execute_result"
    }
   ],
   "source": [
    "ls = [1,2,3]\n",
    "[func for func in dir(ls) if func[:2] != \"__\" and func[0] == \"c\"]"
   ]
  },
  {
   "cell_type": "code",
   "execution_count": 175,
   "metadata": {},
   "outputs": [],
   "source": [
    "# for문과 list comprehention 성능 비교"
   ]
  },
  {
   "cell_type": "code",
   "execution_count": 180,
   "metadata": {},
   "outputs": [
    {
     "name": "stdout",
     "output_type": "stream",
     "text": [
      "628 µs ± 11.4 µs per loop (mean ± std. dev. of 7 runs, 1000 loops each)\n"
     ]
    }
   ],
   "source": [
    "%%timeit\n",
    "ls = []\n",
    "for num in range(1,10001):\n",
    "    if num % 3 == 0:\n",
    "        ls.append(num)\n",
    "len(ls)"
   ]
  },
  {
   "cell_type": "code",
   "execution_count": 181,
   "metadata": {},
   "outputs": [
    {
     "name": "stdout",
     "output_type": "stream",
     "text": [
      "527 µs ± 11.6 µs per loop (mean ± std. dev. of 7 runs, 1000 loops each)\n"
     ]
    }
   ],
   "source": [
    "%%timeit\n",
    "ls = [num for num in range(a, 10001) if num % 3 == 0]\n",
    "len(ls)"
   ]
  },
  {
   "cell_type": "code",
   "execution_count": null,
   "metadata": {},
   "outputs": [],
   "source": []
  },
  {
   "cell_type": "code",
   "execution_count": null,
   "metadata": {},
   "outputs": [],
   "source": []
  },
  {
   "cell_type": "code",
   "execution_count": null,
   "metadata": {},
   "outputs": [],
   "source": []
  },
  {
   "cell_type": "code",
   "execution_count": null,
   "metadata": {},
   "outputs": [],
   "source": []
  },
  {
   "cell_type": "code",
   "execution_count": null,
   "metadata": {},
   "outputs": [],
   "source": []
  },
  {
   "cell_type": "code",
   "execution_count": null,
   "metadata": {},
   "outputs": [],
   "source": []
  },
  {
   "cell_type": "code",
   "execution_count": null,
   "metadata": {},
   "outputs": [],
   "source": []
  },
  {
   "cell_type": "code",
   "execution_count": null,
   "metadata": {},
   "outputs": [],
   "source": []
  },
  {
   "cell_type": "code",
   "execution_count": null,
   "metadata": {},
   "outputs": [],
   "source": []
  }
 ],
 "metadata": {
  "kernelspec": {
   "display_name": "Python 3",
   "language": "python",
   "name": "python3"
  },
  "language_info": {
   "codemirror_mode": {
    "name": "ipython",
    "version": 3
   },
   "file_extension": ".py",
   "mimetype": "text/x-python",
   "name": "python",
   "nbconvert_exporter": "python",
   "pygments_lexer": "ipython3",
   "version": "3.7.6"
  }
 },
 "nbformat": 4,
 "nbformat_minor": 4
}
