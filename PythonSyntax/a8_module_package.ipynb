{
 "cells": [
  {
   "cell_type": "markdown",
   "metadata": {},
   "source": [
    "### summary\n",
    "- 상속 : 다른 클래스를 받아서 기능을 추가해 새로운 클래스를 만드는 방법.\n",
    "- super : 부모클래스에서 특정 함수의 코드를 가져오는 방법\n",
    "- getter, setter : 클래스로 만들어진 객체에 변수값을 수정하거나 출력할 때, 특정 함수를 통해서 수정하고 출력하는 방법\n",
    "- non public(private) : manging(__) `_(클래스명)` 이 붙은 변수로 객체를 생성할 때, 변경이 되어 생성\n",
    "- is a / has a: 클래스를 설계하는 방법\n",
    "- magcic(special) method 객체끼리의 정의를 달리 하고싶을 때(정의하고 싶을때) 사용\n",
    "    - compare :\n",
    "         - `__eq__, `__ne__`, `__lt__` `__gt__`, `__le__`(<=), `__ge__`(>=)\n",
    "    - Calculate : \n",
    "        - `__ad__`, `__str__`, `__mul__`, `__pow__`(**)\n",
    "    - `__repr__`, `__str__`"
   ]
  },
  {
   "cell_type": "code",
   "execution_count": 46,
   "metadata": {},
   "outputs": [],
   "source": [
    "# Integer 객체\n",
    "class Integer:\n",
    "    \n",
    "    def __init__(self, number):\n",
    "        self.number = number\n",
    "        \n",
    "    def __add__(self, obj):\n",
    "        return self.number - obj.number\n",
    "    \n",
    "    def __repr__(self):\n",
    "        return str(self.number) # 문자열 데이터로 !! 형변환\n",
    "    def __str__(self):\n",
    "        return str(self.number)"
   ]
  },
  {
   "cell_type": "code",
   "execution_count": 47,
   "metadata": {},
   "outputs": [],
   "source": [
    "num1 = Integer(1)\n",
    "num2 = Integer(2)"
   ]
  },
  {
   "cell_type": "code",
   "execution_count": 49,
   "metadata": {},
   "outputs": [
    {
     "data": {
      "text/plain": [
       "-1"
      ]
     },
     "execution_count": 49,
     "metadata": {},
     "output_type": "execute_result"
    }
   ],
   "source": [
    "num1 + num2 # num1 num2의 데이터 타입이 다를 경우 앞에 있는 num1의 magic method를 따른다."
   ]
  },
  {
   "cell_type": "code",
   "execution_count": 41,
   "metadata": {},
   "outputs": [
    {
     "data": {
      "text/plain": [
       "1"
      ]
     },
     "execution_count": 41,
     "metadata": {},
     "output_type": "execute_result"
    }
   ],
   "source": [
    "num1"
   ]
  },
  {
   "cell_type": "code",
   "execution_count": 42,
   "metadata": {},
   "outputs": [
    {
     "name": "stdout",
     "output_type": "stream",
     "text": [
      "1\n"
     ]
    }
   ],
   "source": [
    "print(num1)"
   ]
  },
  {
   "cell_type": "markdown",
   "metadata": {},
   "source": [
    " #### quiz \n",
    "- 계좌클래스 만들기\n",
    "- 변수 : 자산(asset), 이자율(interest)\n",
    "- 함수 : 인출(draw), 입금(insert), 이자추가(add_interest)\n",
    "- 인출시 자산이상의 돈을 인출 할 수 없다."
   ]
  },
  {
   "cell_type": "markdown",
   "metadata": {},
   "source": [
    "#### my code"
   ]
  },
  {
   "cell_type": "code",
   "execution_count": 72,
   "metadata": {},
   "outputs": [],
   "source": [
    "asset = 10000\n",
    "# interest = 0.1\n",
    "result = 0"
   ]
  },
  {
   "cell_type": "code",
   "execution_count": 86,
   "metadata": {},
   "outputs": [
    {
     "name": "stdout",
     "output_type": "stream",
     "text": [
      "draw_money: 7000\n",
      "3300.0 3000원이 남았습니다.\n"
     ]
    }
   ],
   "source": [
    "draw_money = int(input(\"draw_money: \"))\n",
    "\n",
    "# 자산과 비교하여 인출, 적으면 인출 불가.\n",
    "if draw_money <= asset:\n",
    "    \n",
    "    account = (asset - draw_money) + (asset - draw_money) * 0.1\n",
    "    print(account,\"{}원이 남았습니다.\".format(asset - draw_money))\n",
    " #   result  = account + (account) * 0.1\n",
    "\n",
    "\n",
    "\n",
    "\n",
    "\n",
    "else:\n",
    "    print(\"인출불가 {}원이 부족합니다.\".format(asset - draw_money))\n",
    "    \n",
    "\n",
    "    \n",
    "\n",
    "# 이자율 추가\n",
    "\n",
    "\n",
    "# 인출"
   ]
  },
  {
   "cell_type": "code",
   "execution_count": 80,
   "metadata": {},
   "outputs": [],
   "source": [
    "class Caculator:\n",
    "    def __init__(self, num1, num2):\n",
    "        self.num1 = num1\n",
    "        self.num2 = num2\n",
    "        \n",
    "    def add_interest(self):\n",
    "        return (self.num1 - self.num2) + (self.num1 - self.num2)*0.1"
   ]
  },
  {
   "cell_type": "code",
   "execution_count": 82,
   "metadata": {},
   "outputs": [],
   "source": [
    "account = Caculator(\"draw_money\",\"asset\")"
   ]
  },
  {
   "cell_type": "code",
   "execution_count": 84,
   "metadata": {
    "scrolled": true
   },
   "outputs": [
    {
     "ename": "TypeError",
     "evalue": "unsupported operand type(s) for -: 'str' and 'str'",
     "output_type": "error",
     "traceback": [
      "\u001b[1;31m---------------------------------------------------------------------------\u001b[0m",
      "\u001b[1;31mTypeError\u001b[0m                                 Traceback (most recent call last)",
      "\u001b[1;32m<ipython-input-84-6a7fd3f60c66>\u001b[0m in \u001b[0;36m<module>\u001b[1;34m\u001b[0m\n\u001b[1;32m----> 1\u001b[1;33m \u001b[0maccount\u001b[0m\u001b[1;33m.\u001b[0m\u001b[0madd_interest\u001b[0m\u001b[1;33m(\u001b[0m\u001b[1;33m)\u001b[0m\u001b[1;33m\u001b[0m\u001b[1;33m\u001b[0m\u001b[0m\n\u001b[0m",
      "\u001b[1;32m<ipython-input-80-f0a632646df2>\u001b[0m in \u001b[0;36madd_interest\u001b[1;34m(self)\u001b[0m\n\u001b[0;32m      5\u001b[0m \u001b[1;33m\u001b[0m\u001b[0m\n\u001b[0;32m      6\u001b[0m     \u001b[1;32mdef\u001b[0m \u001b[0madd_interest\u001b[0m\u001b[1;33m(\u001b[0m\u001b[0mself\u001b[0m\u001b[1;33m)\u001b[0m\u001b[1;33m:\u001b[0m\u001b[1;33m\u001b[0m\u001b[1;33m\u001b[0m\u001b[0m\n\u001b[1;32m----> 7\u001b[1;33m         \u001b[1;32mreturn\u001b[0m \u001b[1;33m(\u001b[0m\u001b[0mself\u001b[0m\u001b[1;33m.\u001b[0m\u001b[0mnum1\u001b[0m \u001b[1;33m-\u001b[0m \u001b[0mself\u001b[0m\u001b[1;33m.\u001b[0m\u001b[0mnum2\u001b[0m\u001b[1;33m)\u001b[0m \u001b[1;33m+\u001b[0m \u001b[1;33m(\u001b[0m\u001b[0mself\u001b[0m\u001b[1;33m.\u001b[0m\u001b[0mnum1\u001b[0m \u001b[1;33m-\u001b[0m \u001b[0mself\u001b[0m\u001b[1;33m.\u001b[0m\u001b[0mnum2\u001b[0m\u001b[1;33m)\u001b[0m\u001b[1;33m*\u001b[0m\u001b[1;36m0.1\u001b[0m\u001b[1;33m\u001b[0m\u001b[1;33m\u001b[0m\u001b[0m\n\u001b[0m",
      "\u001b[1;31mTypeError\u001b[0m: unsupported operand type(s) for -: 'str' and 'str'"
     ]
    }
   ],
   "source": [
    "account.add_interest()"
   ]
  },
  {
   "cell_type": "markdown",
   "metadata": {},
   "source": [
    "#### answer "
   ]
  },
  {
   "cell_type": "code",
   "execution_count": 169,
   "metadata": {},
   "outputs": [],
   "source": [
    "class Account:\n",
    "    def __init__(self, asset=0, interest=1.05):\n",
    "        self.asset = asset\n",
    "        self.interest = interest\n",
    "        \n",
    "    def draw(self, money):\n",
    "        if self.asset >= money:\n",
    "            self.asset -= money\n",
    "            print(\"{}원 인출 되었습니다..\".format(money))\n",
    "            \n",
    "        else:\n",
    "            print(\"잔액이 {}원 부족합니다.\".format(self.asset - money))\n",
    "        \n",
    "    def insert(self,money):\n",
    "        self.asset += money\n",
    "        print(\"{}원이 입금되었습니다.\".format(money))\n",
    "        \n",
    "    def add_interest(self):\n",
    "        self.asset *= self.interest\n",
    "        print(\"이자가 지급되었습니다.\")\n",
    "        \n",
    "    def __repr__(self):\n",
    "        return \"Account(asset:{}, interest:{})\".format(self.asset, self.interest)\n",
    "         "
   ]
  },
  {
   "cell_type": "code",
   "execution_count": 170,
   "metadata": {},
   "outputs": [],
   "source": [
    "account1 = Account(10000)"
   ]
  },
  {
   "cell_type": "code",
   "execution_count": 171,
   "metadata": {},
   "outputs": [
    {
     "data": {
      "text/plain": [
       "(10000, 1.05)"
      ]
     },
     "execution_count": 171,
     "metadata": {},
     "output_type": "execute_result"
    }
   ],
   "source": [
    "account1.asset, account1.interest"
   ]
  },
  {
   "cell_type": "code",
   "execution_count": 172,
   "metadata": {},
   "outputs": [
    {
     "data": {
      "text/plain": [
       "Account(asset:10000, interest:1.05)"
      ]
     },
     "execution_count": 172,
     "metadata": {},
     "output_type": "execute_result"
    }
   ],
   "source": [
    "account1"
   ]
  },
  {
   "cell_type": "code",
   "execution_count": 173,
   "metadata": {},
   "outputs": [
    {
     "name": "stdout",
     "output_type": "stream",
     "text": [
      "잔액이 -1원 부족합니다.\n"
     ]
    }
   ],
   "source": [
    "account1.draw(10001)"
   ]
  },
  {
   "cell_type": "code",
   "execution_count": 174,
   "metadata": {},
   "outputs": [
    {
     "name": "stdout",
     "output_type": "stream",
     "text": [
      "3000원 인출 되었습니다..\n"
     ]
    }
   ],
   "source": [
    "account1.draw(3000)"
   ]
  },
  {
   "cell_type": "code",
   "execution_count": 175,
   "metadata": {},
   "outputs": [
    {
     "data": {
      "text/plain": [
       "Account(asset:7000, interest:1.05)"
      ]
     },
     "execution_count": 175,
     "metadata": {},
     "output_type": "execute_result"
    }
   ],
   "source": [
    "account1"
   ]
  },
  {
   "cell_type": "code",
   "execution_count": 176,
   "metadata": {},
   "outputs": [
    {
     "name": "stdout",
     "output_type": "stream",
     "text": [
      "5000원이 입금되었습니다.\n"
     ]
    }
   ],
   "source": [
    "account1.insert(5000)"
   ]
  },
  {
   "cell_type": "code",
   "execution_count": 177,
   "metadata": {},
   "outputs": [
    {
     "data": {
      "text/plain": [
       "Account(asset:12000, interest:1.05)"
      ]
     },
     "execution_count": 177,
     "metadata": {},
     "output_type": "execute_result"
    }
   ],
   "source": [
    "account1"
   ]
  },
  {
   "cell_type": "code",
   "execution_count": 178,
   "metadata": {},
   "outputs": [
    {
     "name": "stdout",
     "output_type": "stream",
     "text": [
      "이자가 지급되었습니다.\n"
     ]
    }
   ],
   "source": [
    "account1.add_interest()"
   ]
  },
  {
   "cell_type": "code",
   "execution_count": 179,
   "metadata": {},
   "outputs": [
    {
     "data": {
      "text/plain": [
       "Account(asset:12600.0, interest:1.05)"
      ]
     },
     "execution_count": 179,
     "metadata": {},
     "output_type": "execute_result"
    }
   ],
   "source": [
    "account1"
   ]
  },
  {
   "cell_type": "markdown",
   "metadata": {},
   "source": [
    "### Module Package\n",
    "- module : 변수, 함수, 클래스를 모아놓은 (.py) 확장자를 가진 파일\n",
    "- package : 모듈의 기능을 디렉토리별로 정리해 놓은 개념"
   ]
  },
  {
   "cell_type": "markdown",
   "metadata": {},
   "source": [
    "###  1. 모듈파일 생성\n",
    "- 모듈 생성\n",
    "- 모듈 호출"
   ]
  },
  {
   "cell_type": "code",
   "execution_count": 180,
   "metadata": {},
   "outputs": [
    {
     "name": "stdout",
     "output_type": "stream",
     "text": [
      "01_jupyter_notebook.ipynb\n",
      "02_basic_syntax.ipynb\n",
      "02_decorator.ipynb\n",
      "03_condition_loop.ipynb\n",
      "04_function.ipynb\n",
      "04-1 function.ipynb\n",
      "05_Class.ipynb\n",
      "08_module_package.ipynb\n",
      "1008practice.ipynb\n",
      "201006.ipynb\n",
      "201007.ipynb\n",
      "20201007 Qclass.ipynb\n",
      "-p\n",
      "school\n",
      "schoolWdss\n",
      "Untitled.ipynb\n",
      "媛뺤쓽\n"
     ]
    }
   ],
   "source": [
    "!ls"
   ]
  },
  {
   "cell_type": "code",
   "execution_count": 185,
   "metadata": {},
   "outputs": [],
   "source": [
    "# %%뒤의 셀을 writefile 적용하고 기능들을 dss.py형태로 저장"
   ]
  },
  {
   "cell_type": "code",
   "execution_count": 1,
   "metadata": {},
   "outputs": [
    {
     "name": "stdout",
     "output_type": "stream",
     "text": [
      "Overwriting dss.py\n"
     ]
    }
   ],
   "source": [
    "%%writefile dss.py \n",
    "\n",
    "num = 1234\n",
    "\n",
    "def disp1(msg):\n",
    "    print(\"disp1\",msg)\n",
    "    \n",
    "def disp2(msg):\n",
    "    print(\"disp2\",msg)\n",
    "    \n",
    "class Calc:\n",
    "    def plus(self, *args):\n",
    "        return sum(args)"
   ]
  },
  {
   "cell_type": "code",
   "execution_count": 2,
   "metadata": {
    "scrolled": true
   },
   "outputs": [
    {
     "name": "stdout",
     "output_type": "stream",
     "text": [
      "01_jupyter_notebook.ipynb\n",
      "02_basic_syntax.ipynb\n",
      "02_decorator.ipynb\n",
      "03_condition_loop.ipynb\n",
      "04_function.ipynb\n",
      "04-1 function.ipynb\n",
      "05_Class.ipynb\n",
      "08_module_package.ipynb\n",
      "1008practice.ipynb\n",
      "201006.ipynb\n",
      "201007.ipynb\n",
      "20201007 Qclass.ipynb\n",
      "dss.py\n",
      "-p\n",
      "school\n",
      "schoolWdss\n",
      "Untitled.ipynb\n",
      "媛뺤쓽\n"
     ]
    }
   ],
   "source": [
    "!ls "
   ]
  },
  {
   "cell_type": "code",
   "execution_count": 3,
   "metadata": {},
   "outputs": [
    {
     "name": "stdout",
     "output_type": "stream",
     "text": [
      "Once deleted, variables cannot be recovered. Proceed (y/[n])? y\n"
     ]
    }
   ],
   "source": [
    "%reset"
   ]
  },
  {
   "cell_type": "code",
   "execution_count": 4,
   "metadata": {},
   "outputs": [
    {
     "name": "stdout",
     "output_type": "stream",
     "text": [
      "Interactive namespace is empty.\n"
     ]
    }
   ],
   "source": [
    "%whos"
   ]
  },
  {
   "cell_type": "code",
   "execution_count": 5,
   "metadata": {
    "scrolled": true
   },
   "outputs": [],
   "source": [
    "# 모듈 호출 : import\n",
    "import dss"
   ]
  },
  {
   "cell_type": "code",
   "execution_count": 6,
   "metadata": {},
   "outputs": [
    {
     "name": "stdout",
     "output_type": "stream",
     "text": [
      "Variable   Type      Data/Info\n",
      "------------------------------\n",
      "dss        module    <module 'dss' from 'D:\\\\c<...>thon Folder\\\\01\\\\dss.py'>\n"
     ]
    }
   ],
   "source": [
    "%whos"
   ]
  },
  {
   "cell_type": "code",
   "execution_count": 7,
   "metadata": {},
   "outputs": [
    {
     "data": {
      "text/plain": [
       "1234"
      ]
     },
     "execution_count": 7,
     "metadata": {},
     "output_type": "execute_result"
    }
   ],
   "source": [
    "dss.num"
   ]
  },
  {
   "cell_type": "code",
   "execution_count": 8,
   "metadata": {},
   "outputs": [],
   "source": [
    "calc = dss.Calc()"
   ]
  },
  {
   "cell_type": "code",
   "execution_count": 9,
   "metadata": {},
   "outputs": [
    {
     "data": {
      "text/plain": [
       "10"
      ]
     },
     "execution_count": 9,
     "metadata": {},
     "output_type": "execute_result"
    }
   ],
   "source": [
    "calc.plus(1,2,3,4)"
   ]
  },
  {
   "cell_type": "code",
   "execution_count": 10,
   "metadata": {},
   "outputs": [],
   "source": [
    "# 모듈 안에 특정 함수, 변수, 클래스 호출"
   ]
  },
  {
   "cell_type": "code",
   "execution_count": 11,
   "metadata": {},
   "outputs": [],
   "source": [
    "from dss import num, disp2 # 모듈 안에서 특정 함수 변수 클래스 호출"
   ]
  },
  {
   "cell_type": "code",
   "execution_count": 12,
   "metadata": {},
   "outputs": [
    {
     "name": "stdout",
     "output_type": "stream",
     "text": [
      "Variable   Type        Data/Info\n",
      "--------------------------------\n",
      "calc       Calc        <dss.Calc object at 0x000001AFFAC60B88>\n",
      "disp2      function    <function disp2 at 0x000001AFFAD2DB88>\n",
      "dss        module      <module 'dss' from 'D:\\\\c<...>thon Folder\\\\01\\\\dss.py'>\n",
      "num        int         1234\n"
     ]
    }
   ],
   "source": [
    "%whos"
   ]
  },
  {
   "cell_type": "code",
   "execution_count": 13,
   "metadata": {},
   "outputs": [
    {
     "data": {
      "text/plain": [
       "1234"
      ]
     },
     "execution_count": 13,
     "metadata": {},
     "output_type": "execute_result"
    }
   ],
   "source": [
    "dss.num"
   ]
  },
  {
   "cell_type": "code",
   "execution_count": 14,
   "metadata": {},
   "outputs": [
    {
     "data": {
      "text/plain": [
       "1234"
      ]
     },
     "execution_count": 14,
     "metadata": {},
     "output_type": "execute_result"
    }
   ],
   "source": [
    "num"
   ]
  },
  {
   "cell_type": "code",
   "execution_count": 15,
   "metadata": {},
   "outputs": [
    {
     "name": "stdout",
     "output_type": "stream",
     "text": [
      "Once deleted, variables cannot be recovered. Proceed (y/[n])? y\n"
     ]
    }
   ],
   "source": [
    "%reset"
   ]
  },
  {
   "cell_type": "code",
   "execution_count": 16,
   "metadata": {},
   "outputs": [],
   "source": [
    "# 모듈의 모든 변수를 가져옴\n",
    "from dss import *"
   ]
  },
  {
   "cell_type": "markdown",
   "metadata": {},
   "source": [
    "### 2. Package\n",
    "- 패키지 생성\n",
    "- 패키지 호출\n",
    "- setup.py 패키지 설치 파일 만들기"
   ]
  },
  {
   "cell_type": "code",
   "execution_count": 17,
   "metadata": {},
   "outputs": [],
   "source": [
    "# 디렉토리 생성"
   ]
  },
  {
   "cell_type": "code",
   "execution_count": null,
   "metadata": {},
   "outputs": [],
   "source": [
    "# school과 dss라는 디렉토리를 만듬 mkdir은 bash환경에서만 사용된다."
   ]
  },
  {
   "cell_type": "code",
   "execution_count": 6,
   "metadata": {},
   "outputs": [
    {
     "name": "stderr",
     "output_type": "stream",
     "text": [
      "하위 디렉터리 또는 파일 school\\dss이(가) 이미 있습니다.\n"
     ]
    }
   ],
   "source": [
    "!mkdir school\\dss"
   ]
  },
  {
   "cell_type": "code",
   "execution_count": 7,
   "metadata": {},
   "outputs": [
    {
     "name": "stderr",
     "output_type": "stream",
     "text": [
      "하위 디렉터리 또는 파일 school\\web이(가) 이미 있습니다.\n"
     ]
    }
   ],
   "source": [
    "!mkdir school\\web"
   ]
  },
  {
   "cell_type": "code",
   "execution_count": 8,
   "metadata": {},
   "outputs": [
    {
     "name": "stdout",
     "output_type": "stream",
     "text": [
      "폴더 PATH의 목록입니다.\n",
      "볼륨 일련 번호는 0000-0000입니다.\n",
      "D:.\n",
      "├─.ipynb_checkpoints\n",
      "├─강의\n",
      "│  ├─.ipynb_checkpoints\n",
      "│  ├─Untitled Folder\n",
      "│  │  ├─.ipynb_checkpoints\n",
      "│  │  └─mypack\n",
      "│  │      └─mypack\n",
      "│  │          ├─mypack1\n",
      "│  │          └─mypack2\n",
      "│  ├─articles\n",
      "│  │  └─texts\n",
      "│  └─texts\n",
      "├─school\n",
      "│  ├─dss\n",
      "│  └─web\n",
      "├─-p\n",
      "├─schoolWdss\n",
      "└─__pycache__\n"
     ]
    }
   ],
   "source": [
    "!tree"
   ]
  },
  {
   "cell_type": "code",
   "execution_count": 9,
   "metadata": {},
   "outputs": [
    {
     "name": "stdout",
     "output_type": "stream",
     "text": [
      "폴더 PATH의 목록입니다.\n",
      "볼륨 일련 번호는 0000-0000입니다.\n",
      "D:\\CODE\\PYTHON FOLDER\\01\\SCHOOL\n",
      "├─dss\n",
      "└─web\n"
     ]
    }
   ],
   "source": [
    "!tree school"
   ]
  },
  {
   "cell_type": "code",
   "execution_count": 10,
   "metadata": {},
   "outputs": [],
   "source": [
    "# vozlwl tkdydtl __init__.py 파일 추가\n",
    "# python 3.3 버전 이상에서는 필요없음"
   ]
  },
  {
   "cell_type": "code",
   "execution_count": 13,
   "metadata": {},
   "outputs": [],
   "source": [
    "!touch school\\dss\\__init__.py\n",
    "!touch school\\dss\\__init__.py"
   ]
  },
  {
   "cell_type": "code",
   "execution_count": 15,
   "metadata": {
    "scrolled": true
   },
   "outputs": [
    {
     "name": "stdout",
     "output_type": "stream",
     "text": [
      "폴더 PATH의 목록입니다.\n",
      "볼륨 일련 번호는 0000-0000입니다.\n",
      "D:\\CODE\\PYTHON FOLDER\\01\\SCHOOL\n",
      "├─dss\n",
      "└─web\n"
     ]
    }
   ],
   "source": [
    "!tree school"
   ]
  },
  {
   "cell_type": "code",
   "execution_count": 7,
   "metadata": {},
   "outputs": [
    {
     "name": "stdout",
     "output_type": "stream",
     "text": [
      "Overwriting school\\dss\\data1.py\n"
     ]
    }
   ],
   "source": [
    "%%writefile school\\dss\\data1.py\n",
    "\n",
    "def plus(*args):\n",
    "    print(\"data1\")\n",
    "    return sum(args)"
   ]
  },
  {
   "cell_type": "code",
   "execution_count": 8,
   "metadata": {},
   "outputs": [
    {
     "name": "stdout",
     "output_type": "stream",
     "text": [
      "Overwriting school\\dss\\data2.py\n"
     ]
    }
   ],
   "source": [
    "%%writefile school\\dss\\data2.py\n",
    "\n",
    "def plus2(*args):\n",
    "    print(\"data2\")\n",
    "    return sum(args)"
   ]
  },
  {
   "cell_type": "code",
   "execution_count": 9,
   "metadata": {},
   "outputs": [
    {
     "name": "stdout",
     "output_type": "stream",
     "text": [
      "Overwriting school\\web\\url.py\n"
     ]
    }
   ],
   "source": [
    "%%writefile school\\web\\url.py\n",
    "\n",
    "def make(url):\n",
    "    return url if url[:7] == \"http://\" else \"http://\" + url"
   ]
  },
  {
   "cell_type": "code",
   "execution_count": 10,
   "metadata": {
    "scrolled": true
   },
   "outputs": [
    {
     "name": "stdout",
     "output_type": "stream",
     "text": [
      "폴더 PATH의 목록입니다.\n",
      "볼륨 일련 번호는 0000-0000입니다.\n",
      "D:\\CODE\\PYTHON FOLDER\\01\\SCHOOL\\\n",
      "잘못된 경로 - \\CODE\\PYTHON FOLDER\\01\\SCHOOL\\\n",
      "\n",
      "에 하위 폴더가 없습니다.\n"
     ]
    }
   ],
   "source": [
    "!tree school\\"
   ]
  },
  {
   "cell_type": "code",
   "execution_count": 12,
   "metadata": {},
   "outputs": [
    {
     "name": "stdout",
     "output_type": "stream",
     "text": [
      "Once deleted, variables cannot be recovered. Proceed (y/[n])? y\n"
     ]
    }
   ],
   "source": [
    "%reset"
   ]
  },
  {
   "cell_type": "code",
   "execution_count": 13,
   "metadata": {},
   "outputs": [],
   "source": [
    "import school.dss.data1"
   ]
  },
  {
   "cell_type": "code",
   "execution_count": 14,
   "metadata": {},
   "outputs": [
    {
     "name": "stdout",
     "output_type": "stream",
     "text": [
      "Variable   Type      Data/Info\n",
      "------------------------------\n",
      "school     module    <module 'school' (namespace)>\n"
     ]
    }
   ],
   "source": [
    "%whos"
   ]
  },
  {
   "cell_type": "code",
   "execution_count": null,
   "metadata": {},
   "outputs": [],
   "source": [
    "# schoo 의 dss의 data1의 안에 있는 plus함수를 호출"
   ]
  },
  {
   "cell_type": "code",
   "execution_count": 15,
   "metadata": {},
   "outputs": [
    {
     "name": "stdout",
     "output_type": "stream",
     "text": [
      "data1\n"
     ]
    },
    {
     "data": {
      "text/plain": [
       "6"
      ]
     },
     "execution_count": 15,
     "metadata": {},
     "output_type": "execute_result"
    }
   ],
   "source": [
    "school.dss.data1.plus(1,2,3)"
   ]
  },
  {
   "cell_type": "code",
   "execution_count": null,
   "metadata": {},
   "outputs": [],
   "source": [
    "# 패키지나 모듈의 이름을 줄여서 쓰고 싶을 때 \"as\" 를 사용"
   ]
  },
  {
   "cell_type": "code",
   "execution_count": 16,
   "metadata": {},
   "outputs": [],
   "source": [
    "import school.dss.data1 as dss"
   ]
  },
  {
   "cell_type": "code",
   "execution_count": 17,
   "metadata": {},
   "outputs": [
    {
     "name": "stdout",
     "output_type": "stream",
     "text": [
      "data1\n"
     ]
    },
    {
     "data": {
      "text/plain": [
       "3"
      ]
     },
     "execution_count": 17,
     "metadata": {},
     "output_type": "execute_result"
    }
   ],
   "source": [
    "dss.plus(1,2)"
   ]
  },
  {
   "cell_type": "code",
   "execution_count": 18,
   "metadata": {},
   "outputs": [],
   "source": [
    "# school.web : 디렉토리 \n",
    "# url : 모듈 import 뒤에는 반드시 모듈/클래스등의 변수 이름만 올 수 있다.\n",
    "from school.web import url"
   ]
  },
  {
   "cell_type": "code",
   "execution_count": 19,
   "metadata": {},
   "outputs": [
    {
     "data": {
      "text/plain": [
       "'http://google.com'"
      ]
     },
     "execution_count": 19,
     "metadata": {},
     "output_type": "execute_result"
    }
   ],
   "source": [
    "url.make(\"google.com\")"
   ]
  },
  {
   "cell_type": "code",
   "execution_count": 20,
   "metadata": {},
   "outputs": [
    {
     "data": {
      "text/plain": [
       "'http://naver.com'"
      ]
     },
     "execution_count": 20,
     "metadata": {},
     "output_type": "execute_result"
    }
   ],
   "source": [
    "url.make(\"http://naver.com\")"
   ]
  },
  {
   "cell_type": "code",
   "execution_count": 21,
   "metadata": {},
   "outputs": [],
   "source": [
    "# 패키지의 위치 : 특정 디렉토리에 있는 패키지는 어디서나 import 가능"
   ]
  },
  {
   "cell_type": "code",
   "execution_count": 22,
   "metadata": {},
   "outputs": [],
   "source": [
    "import random"
   ]
  },
  {
   "cell_type": "code",
   "execution_count": 23,
   "metadata": {},
   "outputs": [
    {
     "name": "stdout",
     "output_type": "stream",
     "text": [
      "__pycache__\n",
      "01_jupyter_notebook.ipynb\n",
      "02_basic_syntax.ipynb\n",
      "02_decorator.ipynb\n",
      "03_condition_loop.ipynb\n",
      "04_function.ipynb\n",
      "04-1 function.ipynb\n",
      "05_Class.ipynb\n",
      "08_module_package.ipynb\n",
      "1008practice.ipynb\n",
      "201006.ipynb\n",
      "201007.ipynb\n",
      "20201007 Qclass.ipynb\n",
      "dss.py\n",
      "-p\n",
      "school\n",
      "schooldss[__init__.py]\n",
      "schoolWdss\n",
      "Untitled.ipynb\n",
      "Untitled1.ipynb\n",
      "媛뺤쓽\n"
     ]
    }
   ],
   "source": [
    "!ls"
   ]
  },
  {
   "cell_type": "code",
   "execution_count": 25,
   "metadata": {},
   "outputs": [],
   "source": [
    "# sys system 관련"
   ]
  },
  {
   "cell_type": "code",
   "execution_count": 24,
   "metadata": {
    "scrolled": true
   },
   "outputs": [
    {
     "name": "stdout",
     "output_type": "stream",
     "text": [
      "D:\\code\\Python Folder\\01\n",
      "C:\\Users\\oaqqa\\anaconda3\\python37.zip\n",
      "C:\\Users\\oaqqa\\anaconda3\\DLLs\n",
      "C:\\Users\\oaqqa\\anaconda3\\lib\n",
      "C:\\Users\\oaqqa\\anaconda3\n",
      "\n",
      "C:\\Users\\oaqqa\\anaconda3\\lib\\site-packages\n",
      "C:\\Users\\oaqqa\\anaconda3\\lib\\site-packages\\win32\n",
      "C:\\Users\\oaqqa\\anaconda3\\lib\\site-packages\\win32\\lib\n",
      "C:\\Users\\oaqqa\\anaconda3\\lib\\site-packages\\Pythonwin\n",
      "C:\\Users\\oaqqa\\anaconda3\\lib\\site-packages\\IPython\\extensions\n",
      "C:\\Users\\oaqqa\\.ipython\n"
     ]
    }
   ],
   "source": [
    "import sys\n",
    "\n",
    "for path in sys.path:\n",
    "    print(path)"
   ]
  },
  {
   "cell_type": "code",
   "execution_count": null,
   "metadata": {},
   "outputs": [],
   "source": [
    "#  random 모듈 위치"
   ]
  },
  {
   "cell_type": "code",
   "execution_count": 36,
   "metadata": {},
   "outputs": [
    {
     "name": "stdout",
     "output_type": "stream",
     "text": [
      "__future__.py\n",
      "__phello__.foo.py\n",
      "__pycache__\n",
      "_bootlocale.py\n",
      "_collections_abc.py\n",
      "_compat_pickle.py\n",
      "_compression.py\n",
      "_dummy_thread.py\n",
      "_markupbase.py\n",
      "_nsis.py\n",
      "_osx_support.py\n",
      "_py_abc.py\n",
      "_pydecimal.py\n",
      "_pyio.py\n",
      "_sitebuiltins.py\n",
      "_strptime.py\n",
      "_system_path.py\n",
      "_threading_local.py\n",
      "_weakrefset.py\n",
      "abc.py\n",
      "aifc.py\n",
      "antigravity.py\n",
      "argparse.py\n",
      "ast.py\n",
      "asynchat.py\n",
      "asyncio\n",
      "asyncore.py\n",
      "base64.py\n",
      "bdb.py\n",
      "binhex.py\n",
      "bisect.py\n",
      "bz2.py\n",
      "calendar.py\n",
      "cgi.py\n",
      "cgitb.py\n",
      "chunk.py\n",
      "cmd.py\n",
      "code.py\n",
      "codecs.py\n",
      "codeop.py\n",
      "collections\n",
      "colorsys.py\n",
      "compileall.py\n",
      "concurrent\n",
      "configparser.py\n",
      "contextlib.py\n",
      "contextvars.py\n",
      "copy.py\n",
      "copyreg.py\n",
      "cProfile.py\n",
      "crypt.py\n",
      "csv.py\n",
      "ctypes\n",
      "curses\n",
      "dataclasses.py\n",
      "datetime.py\n",
      "dbm\n",
      "decimal.py\n",
      "difflib.py\n",
      "dis.py\n",
      "distutils\n",
      "doctest.py\n",
      "dummy_threading.py\n",
      "email\n",
      "encodings\n",
      "ensurepip\n",
      "enum.py\n",
      "filecmp.py\n",
      "fileinput.py\n",
      "fnmatch.py\n",
      "formatter.py\n",
      "fractions.py\n",
      "ftplib.py\n",
      "functools.py\n",
      "genericpath.py\n",
      "getopt.py\n",
      "getpass.py\n",
      "gettext.py\n",
      "glob.py\n",
      "gzip.py\n",
      "hashlib.py\n",
      "heapq.py\n",
      "hmac.py\n",
      "html\n",
      "http\n",
      "idlelib\n",
      "imaplib.py\n",
      "imghdr.py\n",
      "imp.py\n",
      "importlib\n",
      "inspect.py\n",
      "io.py\n",
      "ipaddress.py\n",
      "json\n",
      "keyword.py\n",
      "lib2to3\n",
      "LIEF.lib\n",
      "LIEF-static.lib\n",
      "linecache.py\n",
      "locale.py\n",
      "logging\n",
      "lzma.py\n",
      "macpath.py\n",
      "mailbox.py\n",
      "mailcap.py\n",
      "mimetypes.py\n",
      "modulefinder.py\n",
      "msilib\n",
      "multiprocessing\n",
      "netrc.py\n",
      "nntplib.py\n",
      "ntpath.py\n",
      "nturl2path.py\n",
      "numbers.py\n",
      "opcode.py\n",
      "operator.py\n",
      "optparse.py\n",
      "os.py\n",
      "pathlib.py\n",
      "pdb.py\n",
      "pickle.py\n",
      "pickletools.py\n",
      "pipes.py\n",
      "pkgutil.py\n",
      "platform.py\n",
      "plistlib.py\n",
      "poplib.py\n",
      "posixpath.py\n",
      "pprint.py\n",
      "profile.py\n",
      "pstats.py\n",
      "pty.py\n",
      "py_compile.py\n",
      "pyclbr.py\n",
      "pydoc.py\n",
      "pydoc_data\n",
      "queue.py\n",
      "quopri.py\n",
      "random.py\n",
      "re.py\n",
      "reprlib.py\n",
      "rlcompleter.py\n",
      "runpy.py\n",
      "sched.py\n",
      "secrets.py\n",
      "selectors.py\n",
      "shelve.py\n",
      "shlex.py\n",
      "shutil.py\n",
      "signal.py\n",
      "site.py\n",
      "site-packages\n",
      "smtpd.py\n",
      "smtplib.py\n",
      "sndhdr.py\n",
      "socket.py\n",
      "socketserver.py\n",
      "sqlite3\n",
      "sre_compile.py\n",
      "sre_constants.py\n",
      "sre_parse.py\n",
      "ssl.py\n",
      "stat.py\n",
      "statistics.py\n",
      "string.py\n",
      "stringprep.py\n",
      "struct.py\n",
      "subprocess.py\n",
      "sunau.py\n",
      "symbol.py\n",
      "symtable.py\n",
      "sysconfig.py\n",
      "tabnanny.py\n",
      "tarfile.py\n",
      "telnetlib.py\n",
      "tempfile.py\n",
      "test\n",
      "textwrap.py\n",
      "this.py\n",
      "threading.py\n",
      "timeit.py\n",
      "tkinter\n",
      "token.py\n",
      "tokenize.py\n",
      "trace.py\n",
      "traceback.py\n",
      "tracemalloc.py\n",
      "tty.py\n",
      "turtle.py\n",
      "turtledemo\n",
      "types.py\n",
      "typing.py\n",
      "unittest\n",
      "urllib\n",
      "uu.py\n",
      "uuid.py\n",
      "venv\n",
      "warnings.py\n",
      "wave.py\n",
      "weakref.py\n",
      "webbrowser.py\n",
      "wsgiref\n",
      "xdrlib.py\n",
      "xml\n",
      "xmlrpc\n",
      "zipapp.py\n",
      "zipfile.py\n"
     ]
    }
   ],
   "source": [
    "!ls C:\\Users\\oaqqa\\anaconda3\\lib\n",
    "    \n",
    "    "
   ]
  },
  {
   "cell_type": "code",
   "execution_count": null,
   "metadata": {},
   "outputs": [],
   "source": [
    "# 변수로 활용 가능"
   ]
  },
  {
   "cell_type": "code",
   "execution_count": 37,
   "metadata": {},
   "outputs": [
    {
     "name": "stdout",
     "output_type": "stream",
     "text": [
      "__future__.py\n",
      "__phello__.foo.py\n",
      "__pycache__\n",
      "_bootlocale.py\n",
      "_collections_abc.py\n",
      "_compat_pickle.py\n",
      "_compression.py\n",
      "_dummy_thread.py\n",
      "_markupbase.py\n",
      "_nsis.py\n",
      "_osx_support.py\n",
      "_py_abc.py\n",
      "_pydecimal.py\n",
      "_pyio.py\n",
      "_sitebuiltins.py\n",
      "_strptime.py\n",
      "_system_path.py\n",
      "_threading_local.py\n",
      "_weakrefset.py\n",
      "abc.py\n",
      "aifc.py\n",
      "antigravity.py\n",
      "argparse.py\n",
      "ast.py\n",
      "asynchat.py\n",
      "asyncio\n",
      "asyncore.py\n",
      "base64.py\n",
      "bdb.py\n",
      "binhex.py\n",
      "bisect.py\n",
      "bz2.py\n",
      "calendar.py\n",
      "cgi.py\n",
      "cgitb.py\n",
      "chunk.py\n",
      "cmd.py\n",
      "code.py\n",
      "codecs.py\n",
      "codeop.py\n",
      "collections\n",
      "colorsys.py\n",
      "compileall.py\n",
      "concurrent\n",
      "configparser.py\n",
      "contextlib.py\n",
      "contextvars.py\n",
      "copy.py\n",
      "copyreg.py\n",
      "cProfile.py\n",
      "crypt.py\n",
      "csv.py\n",
      "ctypes\n",
      "curses\n",
      "dataclasses.py\n",
      "datetime.py\n",
      "dbm\n",
      "decimal.py\n",
      "difflib.py\n",
      "dis.py\n",
      "distutils\n",
      "doctest.py\n",
      "dummy_threading.py\n",
      "email\n",
      "encodings\n",
      "ensurepip\n",
      "enum.py\n",
      "filecmp.py\n",
      "fileinput.py\n",
      "fnmatch.py\n",
      "formatter.py\n",
      "fractions.py\n",
      "ftplib.py\n",
      "functools.py\n",
      "genericpath.py\n",
      "getopt.py\n",
      "getpass.py\n",
      "gettext.py\n",
      "glob.py\n",
      "gzip.py\n",
      "hashlib.py\n",
      "heapq.py\n",
      "hmac.py\n",
      "html\n",
      "http\n",
      "idlelib\n",
      "imaplib.py\n",
      "imghdr.py\n",
      "imp.py\n",
      "importlib\n",
      "inspect.py\n",
      "io.py\n",
      "ipaddress.py\n",
      "json\n",
      "keyword.py\n",
      "lib2to3\n",
      "LIEF.lib\n",
      "LIEF-static.lib\n",
      "linecache.py\n",
      "locale.py\n",
      "logging\n",
      "lzma.py\n",
      "macpath.py\n",
      "mailbox.py\n",
      "mailcap.py\n",
      "mimetypes.py\n",
      "modulefinder.py\n",
      "msilib\n",
      "multiprocessing\n",
      "netrc.py\n",
      "nntplib.py\n",
      "ntpath.py\n",
      "nturl2path.py\n",
      "numbers.py\n",
      "opcode.py\n",
      "operator.py\n",
      "optparse.py\n",
      "os.py\n",
      "pathlib.py\n",
      "pdb.py\n",
      "pickle.py\n",
      "pickletools.py\n",
      "pipes.py\n",
      "pkgutil.py\n",
      "platform.py\n",
      "plistlib.py\n",
      "poplib.py\n",
      "posixpath.py\n",
      "pprint.py\n",
      "profile.py\n",
      "pstats.py\n",
      "pty.py\n",
      "py_compile.py\n",
      "pyclbr.py\n",
      "pydoc.py\n",
      "pydoc_data\n",
      "queue.py\n",
      "quopri.py\n",
      "random.py\n",
      "re.py\n",
      "reprlib.py\n",
      "rlcompleter.py\n",
      "runpy.py\n",
      "sched.py\n",
      "secrets.py\n",
      "selectors.py\n",
      "shelve.py\n",
      "shlex.py\n",
      "shutil.py\n",
      "signal.py\n",
      "site.py\n",
      "site-packages\n",
      "smtpd.py\n",
      "smtplib.py\n",
      "sndhdr.py\n",
      "socket.py\n",
      "socketserver.py\n",
      "sqlite3\n",
      "sre_compile.py\n",
      "sre_constants.py\n",
      "sre_parse.py\n",
      "ssl.py\n",
      "stat.py\n",
      "statistics.py\n",
      "string.py\n",
      "stringprep.py\n",
      "struct.py\n",
      "subprocess.py\n",
      "sunau.py\n",
      "symbol.py\n",
      "symtable.py\n",
      "sysconfig.py\n",
      "tabnanny.py\n",
      "tarfile.py\n",
      "telnetlib.py\n",
      "tempfile.py\n",
      "test\n",
      "textwrap.py\n",
      "this.py\n",
      "threading.py\n",
      "timeit.py\n",
      "tkinter\n",
      "token.py\n",
      "tokenize.py\n",
      "trace.py\n",
      "traceback.py\n",
      "tracemalloc.py\n",
      "tty.py\n",
      "turtle.py\n",
      "turtledemo\n",
      "types.py\n",
      "typing.py\n",
      "unittest\n",
      "urllib\n",
      "uu.py\n",
      "uuid.py\n",
      "venv\n",
      "warnings.py\n",
      "wave.py\n",
      "weakref.py\n",
      "webbrowser.py\n",
      "wsgiref\n",
      "xdrlib.py\n",
      "xml\n",
      "xmlrpc\n",
      "zipapp.py\n",
      "zipfile.py\n"
     ]
    }
   ],
   "source": [
    "packages = !ls C:\\Users\\oaqqa\\anaconda3\\lib"
   ]
  },
  {
   "cell_type": "code",
   "execution_count": 39,
   "metadata": {},
   "outputs": [
    {
     "data": {
      "text/plain": [
       "207"
      ]
     },
     "execution_count": 39,
     "metadata": {},
     "output_type": "execute_result"
    }
   ],
   "source": [
    "packages = !ls C:\\Users\\oaqqa\\anaconda3\\lib\n",
    "len(packages)"
   ]
  },
  {
   "cell_type": "code",
   "execution_count": 42,
   "metadata": {},
   "outputs": [
    {
     "data": {
      "text/plain": [
       "['xdrlib.py', 'xml', 'xmlrpc', 'zipapp.py', 'zipfile.py']"
      ]
     },
     "execution_count": 42,
     "metadata": {},
     "output_type": "execute_result"
    }
   ],
   "source": [
    "packages[-5:]"
   ]
  },
  {
   "cell_type": "code",
   "execution_count": 43,
   "metadata": {},
   "outputs": [],
   "source": [
    "# setup.py 를 작성해서 패키지를 설치해서 사용"
   ]
  },
  {
   "cell_type": "code",
   "execution_count": 45,
   "metadata": {},
   "outputs": [
    {
     "name": "stdout",
     "output_type": "stream",
     "text": [
      "폴더 PATH의 목록입니다.\n",
      "볼륨 일련 번호는 0000-0000입니다.\n",
      "D:\\CODE\\PYTHON FOLDER\\01\\SCHOOL\n",
      "├─dss\n",
      "│  └─__pycache__\n",
      "└─web\n",
      "    └─__pycache__\n"
     ]
    }
   ],
   "source": [
    "!tree school"
   ]
  },
  {
   "cell_type": "markdown",
   "metadata": {},
   "source": [
    "#### 4. directories, 9 files"
   ]
  },
  {
   "cell_type": "code",
   "execution_count": 6,
   "metadata": {},
   "outputs": [],
   "source": [
    "#  __initi__어떤 모듈이 import될지 지정"
   ]
  },
  {
   "cell_type": "code",
   "execution_count": 7,
   "metadata": {},
   "outputs": [
    {
     "name": "stdout",
     "output_type": "stream",
     "text": [
      "Overwriting school/dss/__init__.py\n"
     ]
    }
   ],
   "source": [
    "%%writefile school/dss/__init__.py\n",
    "\n",
    "__all__=[\"data1\",\"data2\"]"
   ]
  },
  {
   "cell_type": "code",
   "execution_count": 55,
   "metadata": {},
   "outputs": [
    {
     "name": "stdout",
     "output_type": "stream",
     "text": [
      "Overwriting school\\setup.py\n"
     ]
    }
   ],
   "source": [
    "%%writefile school\\setup.py\n",
    "\n",
    "from setuptools import setup, find_packages\n",
    "\n",
    "setup(\n",
    "    name=\"dss\",\n",
    "    packages=find_packages(),\n",
    "    include_package_data=True,\n",
    "    version=\"0.0.1\",\n",
    "    author=\"oaqqao\",\n",
    "    author_email=\"ristajc@gmail.com\",\n",
    "    zip_safe=False,\n",
    ")"
   ]
  },
  {
   "cell_type": "code",
   "execution_count": 56,
   "metadata": {},
   "outputs": [],
   "source": [
    "# 모듈삭제"
   ]
  },
  {
   "cell_type": "code",
   "execution_count": 57,
   "metadata": {},
   "outputs": [
    {
     "name": "stderr",
     "output_type": "stream",
     "text": [
      "rm: cannot remove 'dss.py': No such file or directory\n"
     ]
    }
   ],
   "source": [
    "!rm dss.py"
   ]
  },
  {
   "cell_type": "code",
   "execution_count": 58,
   "metadata": {},
   "outputs": [],
   "source": [
    "# 패키지 설치 확인"
   ]
  },
  {
   "cell_type": "code",
   "execution_count": 59,
   "metadata": {},
   "outputs": [],
   "source": [
    "# pip python packages를 관리해주는 툴"
   ]
  },
  {
   "cell_type": "code",
   "execution_count": 60,
   "metadata": {},
   "outputs": [
    {
     "name": "stdout",
     "output_type": "stream",
     "text": [
      "anaconda-client                    1.7.2              \n",
      "anaconda-navigator                 1.9.12             \n",
      "anaconda-project                   0.8.3              \n"
     ]
    }
   ],
   "source": [
    "!pip list | grep ana"
   ]
  },
  {
   "cell_type": "code",
   "execution_count": null,
   "metadata": {},
   "outputs": [],
   "source": [
    "# 패키지 설치\n",
    "# school $ python setup.py develop\n",
    "# develop 패키지안 모듈수정 가능. build로 하면 수정 불가능 수정하면 다시 설치해야함\n",
    "# Kernel 을 restart 해야 설치가 완료 된다."
   ]
  },
  {
   "cell_type": "code",
   "execution_count": 1,
   "metadata": {},
   "outputs": [
    {
     "name": "stdout",
     "output_type": "stream",
     "text": [
      "dss                                0.0.1               d:\\code\\python folder\\01\\school\n"
     ]
    }
   ],
   "source": [
    "!pip list | grep dss"
   ]
  },
  {
   "cell_type": "code",
   "execution_count": 2,
   "metadata": {},
   "outputs": [
    {
     "name": "stdout",
     "output_type": "stream",
     "text": [
      "numpy                              1.18.1              \n",
      "numpydoc                           0.9.2               \n"
     ]
    }
   ],
   "source": [
    "!pip list | grep numpy"
   ]
  },
  {
   "cell_type": "code",
   "execution_count": 1,
   "metadata": {},
   "outputs": [],
   "source": [
    "from dss import *"
   ]
  },
  {
   "cell_type": "code",
   "execution_count": 2,
   "metadata": {},
   "outputs": [
    {
     "name": "stdout",
     "output_type": "stream",
     "text": [
      "Variable   Type      Data/Info\n",
      "------------------------------\n",
      "data1      module    <module 'dss.data1' from <...>\\\\school\\\\dss\\\\data1.py'>\n",
      "data2      module    <module 'dss.data2' from <...>\\\\school\\\\dss\\\\data2.py'>\n"
     ]
    }
   ],
   "source": [
    "%whos"
   ]
  },
  {
   "cell_type": "code",
   "execution_count": 3,
   "metadata": {},
   "outputs": [
    {
     "name": "stdout",
     "output_type": "stream",
     "text": [
      "data1\n"
     ]
    },
    {
     "data": {
      "text/plain": [
       "3"
      ]
     },
     "execution_count": 3,
     "metadata": {},
     "output_type": "execute_result"
    }
   ],
   "source": [
    "data1.plus(1,2)"
   ]
  },
  {
   "cell_type": "code",
   "execution_count": 4,
   "metadata": {},
   "outputs": [],
   "source": [
    "# uninstall\n",
    "# pip uninstall dss"
   ]
  },
  {
   "cell_type": "code",
   "execution_count": 5,
   "metadata": {},
   "outputs": [],
   "source": [
    "!pip list | grep dss"
   ]
  },
  {
   "cell_type": "code",
   "execution_count": null,
   "metadata": {},
   "outputs": [],
   "source": []
  }
 ],
 "metadata": {
  "kernelspec": {
   "display_name": "Python 3",
   "language": "python",
   "name": "python3"
  },
  "language_info": {
   "codemirror_mode": {
    "name": "ipython",
    "version": 3
   },
   "file_extension": ".py",
   "mimetype": "text/x-python",
   "name": "python",
   "nbconvert_exporter": "python",
   "pygments_lexer": "ipython3",
   "version": "3.7.6"
  }
 },
 "nbformat": 4,
 "nbformat_minor": 4
}
